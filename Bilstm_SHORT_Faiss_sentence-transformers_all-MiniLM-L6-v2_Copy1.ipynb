{
 "cells": [
  {
   "cell_type": "code",
   "execution_count": 1,
   "id": "07a8631b",
   "metadata": {},
   "outputs": [],
   "source": [
    "# import tensorflow as tf\n",
    "# from tensorflow.python.client import device_lib\n",
    "# tf.config.list_physical_devices('GPU')"
   ]
  },
  {
   "cell_type": "code",
   "execution_count": 2,
   "id": "72d61d93",
   "metadata": {},
   "outputs": [],
   "source": [
    "# device_lib.list_local_devices()"
   ]
  },
  {
   "cell_type": "code",
   "execution_count": 3,
   "id": "24969bbe",
   "metadata": {},
   "outputs": [],
   "source": [
    "# pwd"
   ]
  },
  {
   "cell_type": "code",
   "execution_count": 1,
   "id": "2fc8f381",
   "metadata": {},
   "outputs": [
    {
     "name": "stderr",
     "output_type": "stream",
     "text": [
      "C:\\ProgramData\\Anaconda3\\envs\\nls_gpu\\lib\\site-packages\\tqdm\\auto.py:21: TqdmWarning: IProgress not found. Please update jupyter and ipywidgets. See https://ipywidgets.readthedocs.io/en/stable/user_install.html\n",
      "  from .autonotebook import tqdm as notebook_tqdm\n"
     ]
    }
   ],
   "source": [
    "import pandas as pd\n",
    "import string\n",
    "import nltk\n",
    "from nltk.corpus import stopwords\n",
    "import torch\n",
    "from transformers import AutoTokenizer, AutoModel\n",
    "from sentence_transformers import SentenceTransformer,util\n",
    "import numpy as np\n",
    "import json\n",
    "from sklearn.metrics.pairwise import cosine_similarity\n",
    "import warnings\n",
    "warnings.filterwarnings('ignore')\n",
    "stop_words=stopwords.words('english')\n",
    "punctuation=string.punctuation"
   ]
  },
  {
   "cell_type": "code",
   "execution_count": 2,
   "id": "f21d8f44",
   "metadata": {},
   "outputs": [],
   "source": [
    "def save_custom_embeddings(model_path,corpus_embeddings):\n",
    "    #store sentences & embeddings on disc\n",
    "    with open(model_path+'\\\\'+'embeddings.pkl',\"wb\") as fout:\n",
    "        pickle.dump({'Sentences':corpus, 'embeddings': corpus_embeddings},fout)\n",
    "    print(\"saved Custom embeddings\")\n",
    "\n",
    "def load_custom_embeddings(model_path):\n",
    "    with open(model_path+'/embeddings.pkl',\"rb\") as fin:\n",
    "        stored_data = pickle.load(fin)\n",
    "        stored_sentences = stored_data['Sentences']\n",
    "        stored_embeddings = stored_data['embeddings']\n",
    "    return stored_sentences,stored_embeddings\n",
    "\n",
    "def get_embeddings(sentence):\n",
    "    #encode sentence to get sentence embeddings\n",
    "    sentence_embedding=model.encode(sentence, convert_to_tensor=True)\n",
    "    return sentence_embedding\n",
    "\n",
    "def sentence_similarity_scores(sentence_embedding,\n",
    "                              custom_embeddings,\n",
    "                              stored_sentences,\n",
    "                              top_k,\n",
    "                              input_sentence):\n",
    "    #computing similarity scores with the corpus\n",
    "    cos_scores= util.pytorch_cos_sim(sentence_embedding, custom_embeddings)[0]\n",
    "    #sort the results in decreasing order and get the first top_k\n",
    "    top_results = np.argpartition(-cos_scores, range(top_k))[0:top_k]\n",
    "    print(\"sentence :\", input_sentence, \"\\n\")\n",
    "    print(\"Top\", top_k, \"most similar sentences in corpus\")\n",
    "    results={}\n",
    "    for idx in top_results[0:top_k]:\n",
    "        print(stored_sentences[idx],\"(scores:%4f)\" % (cos_scores[idx]))\n",
    "        results[f\"sentence{idx}\"]= ({\"predicted_sentence\": stored_sentences[idx],\"Scores\" : float(cos_scores[idx])})\n",
    "    return results\n",
    "\n",
    "def clean_text(text):\n",
    "    # Convert the text to title case\n",
    "    text = str(text).title()\n",
    "    # Remove the punctuation\n",
    "    text = ''.join([c for c in text if c not in punctuation])\n",
    "    # Remove the stop words\n",
    "    tokens = [token for token in text.split() if token.lower() not in stop_words]\n",
    "    # Convert the tokens back to a string\n",
    "    cleaned_text = ' '.join(tokens)\n",
    "    return cleaned_text\n",
    "\n",
    "\n",
    "def concate_column_text(data):\n",
    "    df[\"concated_text\"]=df[[\"Category Name\",\"Service name\",\"Service Classification\"]].astype(str).agg(' '.join,axis=1)\n",
    "    return df[\"concated_text\"]\n",
    "\n",
    "\n",
    "def convert_column_to_list(data):\n",
    "    data=data.tolist()\n",
    "    return data\n",
    "\n",
    "def convert_df_to_list(data):\n",
    "    all_data=[]\n",
    "    corpus=[]\n",
    "    for values in df.columns:\n",
    "        listin=df[values].tolist()\n",
    "        all_data.append(listin)\n",
    "    complete_data = [element for innerList in all_data for element in innerList]\n",
    "    for word in complete_data:\n",
    "        if word not in corpus:\n",
    "            corpus.append(word)\n",
    "    return corpus"
   ]
  },
  {
   "cell_type": "code",
   "execution_count": 3,
   "id": "fac00e59",
   "metadata": {},
   "outputs": [],
   "source": [
    "# Define the path to the Excel files\n",
    "path_to_files = r\"C:\\Users\\AL44096\\Documents\\NLS_excel_files\"\n",
    "\n",
    "# Define the names of the Excel files\n",
    "file_names = ['Benefit_description_short.xlsx'\n",
    "              ]\n",
    "\n",
    "# Define the name of the sheet in each Excel file that contains the text data\n",
    "#sheet_name = 'Sheet1'\n",
    "\n",
    "# Load and clean the text data from each Excel file\n",
    "cleaned_data = []\n",
    "for file_name in file_names:\n",
    "    # Load the data from the Excel file into a Pandas DataFrame\n",
    "    df = pd.read_excel(f'{path_to_files}/{file_name}')\n",
    "    #data=concate_column_text(df)\n",
    "    data=df['Description']\n",
    "    #cleaned_data.append(data)\n",
    "    # Extract the relevant text data from the DataFrame\n",
    "    text_data = convert_column_to_list(data)\n",
    "    # Clean the text data\n",
    "    cleaned_text_data = [clean_text(text) for text in text_data]\n",
    "    cleaned_data.append(cleaned_text_data)\n",
    "corpus = [element for innerList in cleaned_data for element in innerList]"
   ]
  },
  {
   "cell_type": "code",
   "execution_count": 4,
   "id": "47e8931f",
   "metadata": {
    "scrolled": true
   },
   "outputs": [
    {
     "data": {
      "text/plain": [
       "['Federal Law Prohibits Federal Funds Including Marketplace Premium Tax Credits Used Abortion Services Except Limited Cases Rape Incest Woman Suffers LifeThreatening Physical Injury Illness Would Place Woman Danger Death Unless Abortion Performed Marketplace Health Plans May Cover Abortion Services Different Ways Abortion Coverage Restrictions Abortion Coverage Services Cannot Paid Federal Dollars Known “NonHyde” Abortion Services Abortion Coverage Contact Plan Provider Learn Coverage Abortion Services Comparing Plans HealthcareGov Plan Details Screen Show Plan Offers Abortion Coverage Federal Dollars Cannot Used',\n",
       " 'Group Health Care Providers Give Coordinated Care Chronic Disease Management Thereby Improve Quality Care Patients Get OrganizationS Payment Tied Achieving Health Care Quality Goals Outcomes Result Cost Savings',\n",
       " 'Marketplace Health Plan Approved “Seal Approval” Given Plan Independent Organization Show Plan Meets National Quality Standards',\n",
       " 'Percentage Total Average Costs Covered Benefits Plan Cover Example Plan Actuarial Value 70 Average Would Responsible 30 Costs Covered Benefits However Could Responsible Higher Lower Percentage Total Costs Covered Services Year Depending Actual Health Care Needs Terms Insurance Policy',\n",
       " 'Total “Gross” Income Tax Year Minus Certain Adjustments You’Re Allowed Take Adjustments Include Deductions Conventional Ira Contributions Student Loan Interest Adjusted Gross Income Appears Irs Form 1040 Line 11 Report Expected Income Marketplace Health Insurance Application Start Recent YearS Adjusted Gross Income Update Based Income Household Changes Expect Coverage Year Marketplace Uses Different Figure Called Modified Adjusted Gross Income MagiThe Figure Used Determine Eligibility Premium Tax Credits Savings Marketplace Health Insurance Plans Medicaid ChildrenS Health Insurance Program Chip Magi Adjusted Gross Income Agi Plus Untaxed Foreign Income NonTaxable Social Security Benefits TaxExempt Interest Determine Eligibility Savings Magi Line Tax Return Related Content See Recent Official Irs Rules Using Income Adjustments Determine Agi See Estimate Income Marketplace Application Find YouLl Save Marketplace Health Coverage',\n",
       " 'Tax Credit Take Advance Lower Monthly Health Insurance Payment “Premium” Apply Coverage Health Insurance Marketplace® Estimate Expected Income Year Qualify Premium Tax Credit Based Estimate Use Amount Credit Advance Lower Premium End Year You’Ve Taken Premium Tax Credit Advance You’Re Due Based Final Income You’Ll Pay Back Excess File Federal Tax Return You’Ve Taken Less Qualify You’Ll Get Difference Back Related Content See Income Range Qualify Aptc Save Monthly Insurance Premiums',\n",
       " 'Exemption That’S Needed Applying Catastrophic Coverage People 30 Years Older Whose Coverage Unaffordable Affordability Exemptions One Type Exemption Someone Claim Qualify Catastrophic Coverage Along Hardship Exemptions Qualify Affordability Exemption LowestPriced Coverage Available Either Marketplace JobBased Plan Would Cost 809 Household Income Related Content Exemptions Catastrophic Coverage Apply Exemptions',\n",
       " 'Comprehensive Health Care Reform Law Enacted March 2010 Sometimes Known Aca Ppaca “Obamacare” Law 3 Primary Goals Make Affordable Health Insurance Available People Law Provides Consumers Subsidies “Premium Tax Credits” Lower Costs Households Incomes 100 400 Federal Poverty Levela Measure Income Issued Every Year Department Health Human Services Hhs Federal Poverty Levels Used Determine Eligibility Certain Programs Benefits Including Savings Marketplace Health Insurance Medicaid Chip Coverage Fpl Income 400 Fpl May Still Qualify Premium Tax Credit Income 150 Fpl May Qualify Enroll Change Marketplace Coverage Special Enrollment Period Expand Medicaid Program Cover Adults Income 138 Fpl States Expanded Medicaid Programs Support Innovative Medical Care Delivery Methods Designed Lower Costs Health Care Generally Related Content Read Affordable Care Act Rights Protections Health Care Law Check YouLl Save',\n",
       " '2023 JobBased Health Plan Considered Affordable Share Monthly Premium LowestCost Plan Offered Employer Less 912 Household Income LowestCost Plan Must Also Meet Minimum Value Standard You’Re Employee Affordability Based Premium You’D Pay SelfOnly Individual Coverage Coverage Starting January 1 2023 You’Re Offered JobBased Coverage Household Member’S Job Affordability Based Premium Amount Cover Everyone Household Total Household Income Includes Incomes Everybody Household Who’S Required File Tax Return Premiums Aren’T Considered Affordable Employee Household May Qualify Savings Marketplace Plan Premium Considered Affordable Employee Members Household Household Members May Qualify Savings Example Household’S Monthly Income 4083 49000 Per Year 912 Household’S Monthly Household Income 372 Employee Monthly Premium Employee Would Pay LowestPriced Plan Covers Employee 300 Plan Affordable Employee Yes Premium Employee Would Pay Cover 300 Less 912 Household’S Income 372 JobBased Coverage Affordable Employee Employee Won’T Qualify Savings Marketplace Household Members Monthly Premium Employee Would Pay LowestPriced Plan Covers Members Household 450 Plan Affordable Household Members Premium Employee Would Pay Cover Others Household 450 912 Household’S Income 372 JobBased Coverage IsnT Affordable Employee’S Household Members Employee’S Household Members May Qualify Savings Marketplace Related Content Get Tips Accepting JobBased Coverage Estimate Household Income Know Plan Meets Minimum Value Standarda Standard Minimum Coverage Applies JobBased Health Plans Employer’S Plan Meets Standard Considered “Affordable” Won’T Qualify Premium Tax Credit Buy Marketplace Insurance Plan Instead',\n",
       " 'Trained Insurance Professional Help Enroll Health Insurance Plan Agents May Work Single Health Insurance Company Brokers May Represent Several Companies Won’T Pay Anything Additional Enroll Agent Broker Agents Brokers Must Licensed States Signed Agreements Sell Marketplace Health Plans Many States Brokers Required Act Consumer’S Best Interest Agents Brokers Often Get Payments “Commissions” Insurance Companies Selling Plans May Sell Plans Companies Don’T Represent Qualify Premium Tax Credit Savings Enroll Agent Broker Get Savings Agent Broker Must Enroll Health Insurance Marketplace® Related Content Agents Brokers Work HealthcareGov Individuals Families Find Health Insurance Agent Click X0000X0000“Agents Brokers” Tab Top Viewing Results Small Business Employers Work Agent Broker Buy Shop Health Insurance',\n",
       " 'Alimony Money Get Spouse Longer Live Former Spouse Paid Part Divorce Agreement Separation Agreement Court Order Payments Designated Agreement Order Child Support NonTaxable Property Settlement Aren’T Alimony Information See Irs Publication 504',\n",
       " 'Maximum Amount Plan Pay Covered Health Care Service May Also Called “Eligible Expense” “Payment Allowance” “Negotiated Rate” Provider Charges Plan’S Allowed Amount May Pay Difference See Balance Billingwhen Provider Bills Difference Provider’S Charge Allowed Amount Example Provider’S Charge 100 Allowed Amount 70 Provider May Bill Remaining 30 Preferred Provider May Balance Bill Covered Services',\n",
       " 'Usually Health Savings Account Hsa Eligible Plans Total Amount Family Members Plan Must Pay OutOfPocket Health Care Prescription Drugs Health Plan Begins Pay',\n",
       " 'Cap Benefits Insurance Company Pay Year YouRe Enrolled Particular Health Insurance Plan Caps Sometimes Placed Particular Services Prescriptions Hospitalizations Annual Limits May Placed Dollar Amount Covered Services Number Visits Covered Particular Service Annual Limit Reached Must Pay Associated Health Care Costs Rest Year',\n",
       " 'Request Health Insurance Company Health Insurance Marketplace® Review Decision Denies Benefit Payment DonT Agree Decision Made Marketplace May Able File Appeal Small Businesses Also Appeal Small Business Health Options Program Shop Decisions Health Plan Refuses Pay Claim Ends Coverage Right Appeal Decision Reviewed Third Party Related Content Marketplace Decisions Appeal Appeal Marketplace Eligibility Appeal Insurance Company Decision',\n",
       " 'Marketplace Application Unique Identification Number Application Id Apply Marketplace Coverage You’Ll Get Notice Eligibility Results Contains Application Id YouLl Need Application Id Continue Existing Application Compare Plans Complete Enrollment Phone Provide Application Id Marketplace Call Center Representative Find Application Faster YouRe Continuing Application Comparing Plans Enrolling Online YouLl Asked Enter Application Id Log Account Select Find Existing Application Note Application Id Different Plan Ideach Marketplace Health Plan Unique 14Character Identifier ThatS Combination Numbers AndOr Letters Related Content Apply Enroll Applied Coverage Paper Phone',\n",
       " 'Apply Health Coverage Marketplace YouRe Required Agree Attest Truth Information Provided Signing Application',\n",
       " 'Someone Choose Act Behalf Marketplace Like Family Member Trusted Person Authorized Representatives May Legal Authority Act Behalf',\n",
       " 'Provider Bills Difference Provider’S Charge Allowed Amount Example Provider’S Charge 100 Allowed Amount 70 Provider May Bill Remaining 30 Preferred Provider May Balance Bill Covered Services',\n",
       " 'Year Benefits Coverage Individual Health Insurance Plan Benefit Year Plans Bought Inside Outside Marketplace Begins January 1 Year Ends December 31 Year Coverage Ends December 31 Even Coverage Started January 1 Changes Benefits Rates Health Insurance Plan Made Beginning Calendar Year',\n",
       " 'Health Care Items Services Covered Health Insurance Plan Covered Benefits Excluded Services Defined Health Insurance PlanS Coverage Documents Medicaid Chip Covered Benefits Excluded Services Defined State Program Rules',\n",
       " 'Generic Version Complicated Medications',\n",
       " 'Drug Sold Drug Company Specific Name Trademark Protected Patent Brand Name Drugs May Available Prescription Counter',\n",
       " 'Agent Broker Person Business Help Apply Help Paying Coverage Enroll Qualified Health Plan Qhp Marketplace Make Specific Recommendations Plan Enroll They’Re Also Licensed Regulated States Typically Get Payments Commissions Health Insurers Enrolling Consumer IssuerS Plans Brokers May Able Sell Plans Specific Health Insurers',\n",
       " 'One 4 Plan Categories Also Known “Metal Levels” Health Insurance Marketplace® Bronze Plans Usually Lowest Monthly Premiums Highest Costs Get Care Good Choice Usually Use Medical Services Mostly Want Protection High Costs Get Seriously Sick Injured Note Bronze Plan Deductibles High Means Could Pay Thousands Dollars Health Care Costs Plan Starts Pay Share Health Plans Categories Provide Free Preventive Services Plans Offer Services Low Cost Meet Deductible Related Content Marketplace Insurance Categories Types Plans Provider Networks',\n",
       " 'Cafeteria Plan Separate Written Plan Maintained Employer Employees Meets Specific Requirements Regulations Section 125 Internal Revenue Code Provides Participants Opportunity Receive Certain Benefits Pretax Basis Participants Cafeteria Plan Must Permitted Choose Among Least One Taxable Benefit Cash One Qualified Benefit Related Content Learn Cafeteria Plans',\n",
       " 'Incurred Debt Loan Buying Something Credit Portion Amount Owe Discharged Forgiven Canceled Amount Forgiven Debt Generally Counted Income Information See Irs Publication 17 Chapter 12',\n",
       " 'Capital Gain Amount Get Selling Property Like Stock House Mutual Fund Example Buy Stock 1000 Sell 1250 Capital Gain 250 DonT Need Include Capital Gain Sale Main Home Owned Least 5 Years Profit Less 250000 Report Capital Gains Noted Form 1099Div Get Companies Like Mutual Funds Tax Filing Deadline Information See Irs Publication 17 Chapter 14 Irs Publication 544 Related Content Include Income',\n",
       " 'Organization Treatment Across Several Health Care Providers Medical Homes Accountable Care Organizations Two Common Ways Coordinate Care',\n",
       " 'Health Plans Meet Requirements Applicable Qualified Health Plans Qhps DonT Cover Benefits 3 Primary Care Visits Per Year PlanS Deductible Met Premium Amount Pay Month Health Care Generally Lower Qhps OutOfPocket Costs Deductibles Copayments Coinsurance Generally Higher Qualify Catastrophic Plan Must 30 Years Old Qualify Hardship Affordability Exemption YouRe 30 Related Content Catastrophic Health Insurance Plans',\n",
       " 'Federal Agency Runs Medicare Medicaid ChildrenS Health Insurance Programs Federally Facilitated Marketplace Information Visit CmsGov',\n",
       " 'Individual Affiliated Designated Organization Trained Able Help Consumers Small Businesses Employees Look Health Coverage Options Marketplace Including Helping Complete Eligibility Enrollment Forms Services Free Consumers',\n",
       " 'Insurance Program Provides LowCost Health Coverage Children Families Earn Much Money Qualify Medicaid Enough Buy Private Insurance States Chip Covers Pregnant Women State Offers Chip Coverage Works Closely State Medicaid Program Apply Time Qualify Coverage Begin Immediately Time Year Related Content Learn Chip Apply Apply Medicaid Coverage State Agency You’Ll Also Find Children Qualify Chip See Qualify Medicaid Chip',\n",
       " 'Integrated Care Approach Managing Illness Includes Screenings CheckUps Monitoring Coordinating Treatment Patient Education Improve Quality Life Reducing Health Care Costs Chronic Disease Preventing Minimizing Effects Disease',\n",
       " 'Request Payment Health Care Provider Submits Health Insurer Get Items Services Think Covered',\n",
       " 'NonProfit Organization People Company Insured Company Cooperatives Formed National State Local Level Include Doctors Hospitals Businesses MemberOwners CoOps Offer Insurance Marketplace',\n",
       " 'Federal Law May Allow Temporarily Keep Health Coverage Employment Ends Lose Coverage Dependent Covered Employee Another Qualifying Event Elect Cobra Consolidated Omnibus Budget Reconciliation Act Coverage Pay 100 Premiums Including Share Employer Used Pay Plus Small Administrative Fee',\n",
       " 'Percentage Costs Covered Health Care Service Pay 20 Example YouVe Paid Deductible LetS Say Health Insurance PlanS Allowed Amountthe Maximum Amount Plan Pay Covered Health Care Service May Also Called “Eligible Expense” “Payment Allowance” “Negotiated Rate” Office Visit 100 Coinsurance 20 YouVe Paid Deductiblethe Amount Pay Covered Health Care Services Insurance Plan Starts Pay 2000 Deductible Example Pay First 2000 Covered Services Pay 20 100 20 Insurance Company Pays Rest HavenT Met Deductible Pay Full Allowed Amount 100 Example Coinsurance High Medical Costs LetS Say Following Amounts Apply Plan Need Lot Treatment Serious Condition Allowable Costs 12000 Deductible 3000 Coinsurance 20 OutOfPocket Maximum 6850 YouD Pay First 3000 Deductible YouLl Pay 20 Remaining 9000 1800 Coinsurance Total OutOfPocket Costs Would 4800 — 3000 Deductible Plus 1800 Coinsurance Total OutOfPocket Costs Reach 6850 YouD Pay Amount Including Deductible Coinsurance Insurance Company Would Pay Covered Services Rest Plan Year Generally Speaking Plans Low Monthly Premiumsthe Amount Pay Health Insurance Every Month Addition Premium Usually Pay Costs Health Care Including Deductible Copayments Coinsurance Marketplace Health Plan May Able Lower Costs Premium Tax Credit Higher Coinsurance Plans Higher Monthly Premiums Lower Coinsurance Related Content Learn Deductiblesthe Amount Pay Covered Health Care Services Insurance Plan Starts Pay 2000 Deductible Example Pay First 2000 Covered Services Learn Allowed Amountsthe Maximum Amount Plan Pay Covered Health Care Service May Also Called “Eligible Expense” “Payment Allowance” “Negotiated Rate” Learn OutOfPocket Maximumsthe Pay Covered Services Plan Year Spend Amount Deductibles Copayments Coinsurance InNetwork Care Services Health Plan Pays 100 Costs Covered Benefits Learn Deductibles Coinsurance Affect Total Costs Care',\n",
       " 'Rule Prevents Health Insurers Varying Premiums Within Geographic Area Based Age Gender Health Status Factors',\n",
       " 'Open Bidding Federal Contracts Independent Groups Compete Contract Providing Best Bid',\n",
       " 'Conditions Due Pregnancy Labor Delivery Require Medical Care Prevent Serious Harm Health Mother Fetus Morning Sickness NonEmergency Caesarean Section Aren’T Complications Pregnancy',\n",
       " 'Ability States Switch JobBased Coverage Individual Policy Lose Eligibility JobBased Coverage Family Members Covered JobBased Policy May Also Able Convert Individual Policy Lose Dependent Status Example Divorce',\n",
       " 'Way Figure Pays First 2 Health Insurance Plans Responsible Paying Medical Claim',\n",
       " 'Fixed Amount 20 Example Pay Covered Health Care Service YouVe Paid Deductible LetS Say Health Insurance PlanS Allowable Costthe Maximum Amount Plan Pay Covered Health Care Service May Also Called “Eligible Expense” “Payment Allowance” “Negotiated Rate” DoctorS Office Visit 100 Copayment Doctor Visit 20 YouVe Paid Deductible Pay 20 Usually Time Visit HavenT Met Deductible Pay 100 Full Allowable Amount Visit Copayments Sometimes Called Copays Vary Different Services Within Plan Like Drugs Lab Tests Visits Specialists Generally Plans Lower Monthly Premiums Higher Copayments Plans Higher Monthly Premiums Usually Lower Copayments Related Content Learn Deductibles Learn Allowed Amountsthe Maximum Amount Plan Pay Covered Health Care Service May Also Called “Eligible Expense” “Payment Allowance” “Negotiated Rate” Learn Deductibles Copayments Affect Total Costs Care',\n",
       " 'Share Costs Covered Insurance Pay Pocket Term Generally Includes Deductibles Coinsurance Copayments Similar Charges DoesnT Include Premiums Balance Billing Amounts NonNetwork Providers Cost NonCovered Services Cost Sharing Medicaid Chip Also Includes Premiums Related Content Getting Lower Costs Save OutOfPocket Health Care Costs Choose Marketplace Insurance OutOfPocket Costs',\n",
       " 'Discount Lowers Amount Pay Deductibles Copayments Coinsurance Health Insurance Marketplace® CostSharing Reductions Often Called “Extra Savings” Qualify Must Enroll Plan Silver Category Get Extra Savings Fill Marketplace Application You’Ll Find Qualify Premium Tax Credits Extra Savings Use Premium Tax Credita Tax Credit Use Lower Monthly Insurance Payment Called “Premium” Enroll Plan Health Insurance Marketplace® Tax Credit Based Income Estimate Household Information Put Marketplace Application Plan Metal Category Qualify Extra Savings You’Ll Get Savings Pick Silver Plan Qualify CostSharing Reductions Also Lower OutOfPocket Maximum — Total Amount You’D Pay Covered Medical Services Per Year Reach OutOfPocket Maximum Insurance Plan Covers 100 Covered Services YouRe Member Federally Recognized Tribe Alaska Native Claims Settlement Act Ancsa Corporation Shareholder May Qualify Additional CostSharing Reductions Related Content Find You’Ll Qualify CostSharing Reductions Find Silver Plan Get CostSharing Reductions Compare Costs Savings “Metal” Category',\n",
       " 'Money ThatS Due Result Lawsuit Money May Taxable Examples Lawsuit Proceeds ArenT Taxable Amounts Awarded Personal Physical Injury Sickness Amount Get Compensation Damages Property Payment Less Amount Paid Property Payments Compensate Lost Wages Punitive Damages Awards Examples Taxable Court Awards Information See Irs Publication 17 Chapter 12',\n",
       " 'Health Insurance Coverage Following Group Health Plan Individual Health Insurance Student Health Insurance Medicare Medicaid Champus Tricare Federal Employees Health Benefits Program Indian Health Service Peace Corps Public Health Plan Plan Established Maintained State US Government Foreign Country Children’S Health Insurance Program Chip State Health Insurance High Risk Pool Prior Creditable Coverage Reduce Length PreExisting Condition Exclusion Period New JobBased Coverage',\n",
       " 'Difference Information Put Marketplace Health Insurance Application Information Trusted Data Sources Happens Marketplace Ask Submit Documents Confirm Application Information May Include Information Household Income Citizenship Immigration Status Eligibility Types Health Coverage Items Application Don’T Submit Acceptable Documents Deadline Stated Notice Could Lose Marketplace Plan Premium Tax Credits Help Costs Related Content See Documents Submit Submit Documents',\n",
       " 'Amount Pay Covered Health Care Services Insurance Plan Starts Pay 2000 Deductible Example Pay First 2000 Covered Services Pay Deductible Usually Pay Copaymenta Fixed Amount 20 Example Pay Covered Health Care Service YouVe Paid Deductible Coinsurancethe Percentage Costs Covered Health Care Service Pay 20 Example YouVe Paid Deductible Covered Services Insurance Company Pays Rest Many Plans Pay Certain Services Like Checkup Disease Management Programs YouVe Met Deductible Check Plan Details Marketplace Health Plans Pay Full Cost Certain Preventive Benefits Even Meet Deductible Plans Separate Deductibles Certain Services Like Prescription Drugs Family Plans Often Individual Deductible Applies Person Family Deductible Applies Family Members Generally Plans Lower Monthly Premiumsthe Amount Pay Health Insurance Every Month Addition Premium Usually Pay Costs Health Care Including Deductible Copayments Coinsurance Marketplace Health Plan May Able Lower Costs Premium Tax Credit Higher Deductibles Plans Higher Monthly Premiums Usually Lower Deductibles Related Content Learn Deductibles OutOfPocket Costs Affect Total Costs Care Pick Health Plan Works',\n",
       " 'Benefits Help Pay Cost Visits Dentist Basic Preventive Services Like Teeth Cleaning XRays Fillings Marketplace Dental Coverage Available Either Part Marketplace Health Plan Separate Dental Plan Related Content Dental Coverage Marketplace',\n",
       " 'Federal Agency Oversees Cms Administers Programs Protecting Health Americans Including Medicare Marketplace Medicaid Children’S Health Insurance Program Chip Information Visit HhsGov',\n",
       " 'Child Individual Parent Relative Person May Claim Personal Exemption Tax Deduction Affordable Care Act Individuals May Able Claim Premium Tax Credit Help Cover Cost Coverage Dependents Related Content Include Household',\n",
       " 'Insurance Coverage Family Members Policyholder Spouses Children Partners',\n",
       " 'Limit Range Major Life Activities Includes Activities Like Seeing Hearing Walking Tasks Like Thinking Working Different Programs May Different Disability Standards Please Check Program YouRe Interested Disability Standards List Activities Mentioned IsnT Exhaustive Related Content See Americans Disabilities Act Ada Legal Definition Disability Read Equal Employment Opportunity Commission Eeoc Regulations Implement Equal Employment Provisions Ada Pdf',\n",
       " 'Payment Made ForProfit Corporation Shareholders Payment Portion Corporate Earnings May Paid Certain Number Times Year Like Quarter',\n",
       " 'Two People Opposite Sex Live Together Share Domestic Life ArenT Married Joined Civil Union States Domestic Partners Guaranteed Legal Rights Like Hospital Visitation',\n",
       " 'Plans Medicare Prescription Drug Coverage Part Coverage Gap Called Donut Hole Means Drug Plan Spent Certain Amount Money Covered Drugs Pay Costs OutOfPocket Prescriptions Yearly Limit Spent Yearly Limit Coverage Gap Ends Drug Plan Helps Pay Covered Drugs Related Content Medicare',\n",
       " 'List Prescription Drugs Covered Prescription Drug Plan Another Insurance Plan Offering Prescription Drug Benefits Also Called Formulary',\n",
       " 'Equipment Supplies Ordered Health Care Provider Everyday Extended Use Coverage Dme May Include Oxygen Equipment Wheelchairs Crutches Blood Testing Strips Diabetics Preview Plans Prices Based Income Check PlanS Summary Benefits Get Quick Idea Dme Supplies Covered Find Link Summary Benefits Clicking Details Plan',\n",
       " 'Term Used Refer Comprehensive Set Benefits Covered Children Medicaid',\n",
       " 'Certain States Marketplace DoesnT Provide Final Decision Medicaid Eligibility Instead Marketplace Conducts Assessment Passes Application State Medicaid Agency Conduct Final Eligibility Determination',\n",
       " 'Immigration Status ThatS Considered Eligible Getting Health Coverage Marketplace Rules Eligible Immigration Status May Different Insurance Affordability Program Related Content Immigration Status Marketplace',\n",
       " 'Illness Injury Symptom Condition Serious Reasonable Person Would Seek Care Right Away Avoid Severe Harm',\n",
       " 'Ambulance Services Emergency Medical Condition',\n",
       " 'Emergency Services Get Emergency Room',\n",
       " 'Evaluation Emergency Medical Condition Treatment Keep Condition Getting Worse',\n",
       " 'Plans Provide Health AndOr Drug Coverage Former Employees Members Cases Families Plans Offered People SpouseS Former Employer Employee Organization Many Plans ArenT Legally Required Meet Many Provisions Affordable Care Act Including Providing Coverage Children Age 26',\n",
       " 'Affordable Care Act Requires Certain Employers Least 50 FullTime Employees Equivalents Offer Health Insurance Coverage FullTime Employees Dependents Meets Certain Minimum Standards Set Affordable Care Act Make Tax Payment Called Esrp',\n",
       " 'Set 10 Categories Services Health Insurance Plans Must Cover Affordable Care Act Include Doctors’ Services Inpatient Outpatient Hospital Care Prescription Drug Coverage Pregnancy Childbirth Mental Health Services Plans Cover Services Plans Must Offer Dental Coverage Children Dental Benefits Adults Optional Specific Services May Vary Based State’S Requirements You’Ll See Exactly Plan Offers Compare Plans Related Content See 10 Essential Health Benefits Marketplace Plans Cover Plus Additional Benefits Dental Coverage Marketplace',\n",
       " 'Another Term Health Insurance Marketplace® Service Available Every State Helps Individuals Families Small Businesses Shop Enroll Affordable Medical Insurance Marketplace Accessible Websites Call Centers InPerson Assistance Fill Marketplace Application You’Ll Find Qualify Save Money Enroll Medical Insurance Plan You’Ll Also Find Qualify Medicaid Children’S Health Insurance Program Chip Whether Qualify Programs Depends Expected Income Household Members Information Related Content Find Marketplace State Get Quick Overview Marketplace',\n",
       " 'Health Care Services Health Insurance Plan Doesn’T Pay Cover',\n",
       " 'Managed Care Plan Services Covered Go Doctors Specialists Hospitals Plan’S Network Except Emergency Related Content Type Plan Provider Network Marketplace Insurance Categories',\n",
       " 'You’Re 30 Older Want Catastrophic Coverage Must Qualify Hardship Affordability Exemption Plan Years 2018 Earlier Kinds Exemptions Granted Based Certain Hardships Life Events Health Coverage Financial Status Membership Groups Circumstances Avoid Paying Fee That’S Longer Required Related Content Find Claim Exemption Qualify Catastrophic Coverage',\n",
       " 'Number Marketplace Provides Qualify Health Insurance Exemption Fill Exemption Application Marketplace Review Determine Qualify Marketplace Mail Notice Exemption Eligibility Result Qualify Exemption Notice Include Unique Identifier Called Exemption Certificate Number Ecn Member Household Qualifies Exemption Get Ecn You’Ll Need Ecn File Federal Taxes Year Don’T Coverage Use Numbers Complete Irs Form 8965 — Health Coverage Exemptions Pdf 73 Kb Related Content Exemptions Fee Health Coverage Didn’T Health Coverage Last Year',\n",
       " 'Review PlanS Decision Deny Coverage Payment Service Independent ThirdParty Related Plan Plan Denies Appeal External Review Requested Urgent Situations External Review May Requested Even Internal Appeals Process IsnT Yet Completed External Review Available Plan Denies Treatment Based Medical Necessity Appropriateness Health Care Setting Level Care Effectiveness Covered Benefit Plan Determines Care Experimental AndOr Investigational Rescissions Coverage External Review Either Upholds PlanS Decision Overturns Plan’S Decision Plan Must Accept Decision',\n",
       " 'Federal Law Guarantees 12 Weeks Job Protected Leave Certain Employees Need Take Time Due Serious Illness Disability Adopt Child Care Another Family Member Leave Fmla Continue Coverage JobBased Plan',\n",
       " 'Measure Income Issued Every Year Department Health Human Services Hhs Federal Poverty Levels Used Determine Eligibility Certain Programs Benefits Including Savings Marketplace Health Insurance Medicaid Chip Coverage 2023 Federal Poverty Level Fpl Income Numbers Used Calculate Eligibility Medicaid ChildrenS Health Insurance Program Chip 2022 Numbers Slightly Lower Used Calculate Savings Marketplace Insurance Plans 2023 Federal Poverty Level Fpl Family Size2022 Income Numbers2023 Income Numbersfor Individuals1359014580For Family 21831019720For Family 32303024860For Family 42775030000For Family 53247035140For Family 63719040280For Family 74191045420For Family 84663050560For Family 9Add 4720 Extra Personadd 5140 Extra Personnote Federal Poverty Level Amounts Higher Alaska Hawaii Get Hhs Poverty Guidelines 2023 Federal Poverty Levels Used Determine Eligibility ReducedCost Health Coverage Income 400 Fpl Income 400 Fpl May Qualify Premium Tax Credits Lower Monthly Premium 2023 Marketplace Health Insurance Plan Income 100 400 Fpl Income Range States Qualify Premium Tax Credits Lower Monthly Premium Marketplace Health Insurance Plan Income 150 Fpl Income Falls 150 Fpl State You’Re Eligible Medicaid Chip May Qualify Enroll Change Marketplace Coverage Special Enrollment Period Income 138 Fpl Income 138 Fpl State Expanded Medicaid Coverage Qualify Medicaid Based Income Income 100 Fpl Income Falls 100 Fpl Probably Won’T Qualify Savings Marketplace Health Insurance Plan IncomeBased Medicaid Income Refers Modified Adjusted Gross Income MagiThe Figure Used Determine Eligibility Premium Tax Credits Savings Marketplace Health Insurance Plans Medicaid ChildrenS Health Insurance Program Chip Magi Adjusted Gross Income Agi Plus Untaxed Foreign Income NonTaxable Social Security Benefits TaxExempt Interest People Similar Adjusted Gross Income AgiYour Total “Gross” Income Tax Year Minus Certain Adjustments You’Re Allowed Take Adjustments Include Deductions Conventional Ira Contributions Student Loan Interest Adjusted Gross Income Appears Irs Form 1040 Line 11 Magi IsnT Number Tax Return Related Content Income Levels Qualify Savings Federal Poverty Levels Previous Years Income Counted Health Coverage Savings Find Qualify Medicaid Chip Coverage',\n",
       " 'Federally Funded Nonprofit Health Centers Clinics Serve Medically Underserved Areas Populations Federally Qualified Health Centers Provide Primary Care Services Regardless Ability Pay Services Provided Sliding Scale Fee Based Ability Pay',\n",
       " 'Indian Alaska Native Tribe Alaska Native Claims Settlement Act Ancsa Corporation Regional Village Band Nation Pueblo Village Rancheria Community Department Interior Acknowledges Exist Indian Tribe Related Content Health Coverage American Indians Alaska Natives Current List Federally Recognized Tribesexternal Link',\n",
       " 'Payment Penalty Fine Individual Mandate Made Filed Federal Taxes DidnT Health Insurance Counted Qualifying Health Coverage Plan Years 2018 Earlier Fee Health Insurance Longer Applies Means Longer Pay Tax Penalty Health Coverage Related Content Learn Enrolling Catastrophic Coverage Exemption Get Quick Guide Marketplace',\n",
       " 'Method Doctors Health Care Providers Paid Service Performed Examples Services Include Tests Office Visits Related Content Type Plan Provider Network Marketplace Insurance Categories',\n",
       " 'Benefit Program Offers Employees Choice Various Benefits Including Cash Life Insurance Health Insurance Vacations Retirement Plans Child Care Although Common Core Benefits May Required Choose Remaining Benefit Dollars Allocated Type Benefit Total Amount Promised Employer Sometimes Contribute Additional Coverage Also Known Cafeteria Plan Irs 125 Plan',\n",
       " 'Arrangement Employer Lets Pay Many OutOfPocket Medical Expenses TaxFree Dollars Allowed Expenses Include Insurance Copayments Deductibles Qualified Prescription Drugs Insulin Medical Devices Decide Much Put Fsa Limit Set Employer ArenT Taxed Money Money Left End Year Employer Offer One Two Options Get 25 Months Spend Left Money Carry 500 Spend Next Plan Year Flexible Spending Accounts Sometimes Called Flexible Spending Arrangements Related Learn Fsa’S Irs Including Allowed Expense Learn Health Savings Accounts Hsa’S – Similar Arrangements People Coverage Bought JobBased Plans',\n",
       " 'List Prescription Drugs Covered Prescription Drug Plan Another Insurance Plan Offering Prescription Drug Benefits Also Called Drug List',\n",
       " 'Employee Works Average Least 30 Hours Per Week 120 Days Year PartTime Employees Work Average Less 30 Hours Per Week Related Content Health Insurance Work PartTime Options JobBased Insurance Employers Learn Small Business Health Options Program Shop Marketplace Employers Find Count Ftes See Qualify Shop',\n",
       " 'Health Plan Purchased Employer Insurance Company',\n",
       " 'Prescription Drug ActiveIngredient Formula BrandName Drug Generic Drugs Usually Cost Less BrandName Drugs Food Drug Administration Fda Rates Drugs Safe Effective BrandName Drugs',\n",
       " 'One 4 Health Plan Categories “Metal Levels” Health Insurance Marketplace® Gold Plans Usually Higher Monthly Premiums Lower Costs Get Care Gold May Good Choice Use Lot Medical Services Would Rather Pay Front Know You’Ll Pay Less Get Care Related Content Marketplace Insurance Categories Types Plans Provider Networks',\n",
       " 'Short Period — Usually 90 Days — Monthly Health Insurance Payment Due HavenT Made Payment May Grace Period Avoid Losing Health Coverage Grace Period Health Insurance Usually 90 Days Following True Marketplace Plan Qualify Advance Payments Premium Tax Credit You’Ve Paid Least One Full MonthS Premium Benefit Year Far Note Length Grace Period May Different Don’T Qualify Premium Tax Credit Contact State Department Insurance Doi Information Grace Periods State Related Content Premium Payments Grace Periods Termination Grace Periods Flexible Spending Accounts Fsas',\n",
       " 'Used Connection Affordable Care Act Exempt Certain Provisions Law',\n",
       " 'Individual Health Insurance Policy Purchased March 23 2010 Plans Weren’T Sold Marketplace Insurance Companies Agents Brokers May Include Rights Protections Provided Affordable Care Act Plans May Lose “Grandfathered” Status Make Certain Significant Changes Reduce Benefits Increase Costs Consumers Health Plan Must Disclose Whether Considers Grandfathered Plan Note You’Re Group Health Plan Date Joined May Reflect Date Plan Created New Employees Family Members May Added Existing Grandfathered Group Plans March 23 2010 Related Content Grandfathered Health Insurance Plans Replace Grandfathered Health Plan It’S Changed Canceled Insurer',\n",
       " 'Complaint Communicate Health Insurer Plan',\n",
       " 'General Health Plan Offered Employer Employee Organization Provides Health Coverage Employees Families',\n",
       " 'Requirement Health Plans Must Permit Enroll Regardless Health Status Age Gender Factors Might Predict Use Health Services Except States Guaranteed Issue DoesnT Limit Much Charged Enroll',\n",
       " 'Requirement Health Insurance Issuer Must Offer Renew Policy Long Continue Pay Premiums Except States Guaranteed Renewal DoesnT Limit Much Charged Renew Coverage',\n",
       " 'Health Care Services Help Keep Learn Improve Skills Functioning Daily Living Examples Include Therapy Child IsnT Walking Talking Expected Age Services May Include Physical Occupational Therapy SpeechLanguage Pathology Services People Disabilities Variety Inpatient AndOr Outpatient Settings Related Content Marketplace Health Insurance Plans Cover Coverage Options People Disabilities',\n",
       " 'Exemption That’S Needed Applying Catastrophic Coverage People 30 Older Faced Hardship Prevented Getting Insurance Hardship Exemptions One Type Exemption Someone Claim Qualify Catastrophic Coverage Along Affordability Exemptions Related Content Hardship Exemptions Catastrophic Coverage Apply',\n",
       " 'Use Incentives Recruiting Encourage People Enter Health Care Professions Like Primary Care Encourage Providers Practice Underserved Areas',\n",
       " 'Legal Entitlement Payment Reimbursement Health Care Costs Generally Contract Health Insurance Company Group Health Plan Offered Connection Employment Government Program Like Medicare Medicaid Children’S Health Insurance Program Chip',\n",
       " 'Contract Requires Health Insurer Pay Health Care Costs Exchange Premium',\n",
       " 'Service Helps People Shop Enroll Health Insurance Federal Government Operates Health Insurance Marketplace® Available HealthcareGov States States Run Marketplaces Health Insurance Marketplace® Also Known “Marketplace” “Exchange” Provides Health Plan Shopping Enrollment Services Websites Call Centers InPerson Help Small Businesses Use Small Business Health Options Program Shop Marketplace Provide Health Insurance Employees Apply Individual Family Coverage Health Insurance Marketplace® You’Ll Provide Income Household Information You’Ll Find Qualify Premium Tax Credits Savings Make Insurance Affordable Coverage Medicaid Children’S Health Insurance Program Chip State HealthcareGov May Asked Select State Enter Zip Code Live State Runs Marketplace We’Ll Send State’S Marketplace Website Related Content Find Marketplace State Get Quick Overview Health Insurance Marketplace® Visit Shop Marketplace Small Businesses',\n",
       " 'Type Health Insurance Plan Usually Limits Coverage Care Doctors Work Contract Hmo Generally WonT Cover OutOfNetwork Care Except Emergency Hmo May Require Live Work Service Area Eligible Coverage Hmos Often Provide Integrated Care Focus Prevention Wellness Related Content Type Plan Provider Network',\n",
       " 'Levels Plans Health Insurance Marketplace® Bronze Silver Gold Platinum Categories Sometimes Called “Metal Levels” Based Insurance Plan Split Costs Categories Nothing Quality Care “Catastrophic” Plans Available People Plan Category You’Ll Pay Different Percentage Total Yearly Costs Care Insurance Company Pay Rest Total Costs Include Premiumsthe Amount Pay Health Insurance Every Month Addition Premium Usually Pay Costs Health Care Including Deductible Copayments Coinsurance Marketplace Health Plan May Able Lower Costs Premium Tax Credit Deductiblesthe Amount Pay Covered Health Care Services Insurance Plan Starts Pay 2000 Deductible Example Pay First 2000 Covered Services OutOfPocket Costs Like Copaymentsa Fixed Amount 20 Example Pay Covered Health Care Service YouVe Paid Deductible Coinsurancethe Percentage Costs Covered Health Care Service Pay 20 Example YouVe Paid Deductible Category May Include Several Types Plans Provider Networks Like Health Maintenance Organizations Hmos Preferred Provider Organizations Ppos Related Content Marketplace Insurance Categories Types Plans Provider Networks',\n",
       " 'Health Reimbursement Arrangements Hras EmployerFunded Group Health Plans Employees Reimbursed TaxFree Qualified Medical Expenses Fixed Dollar Amount Per Year Unused Amounts May Rolled Used Subsequent Years Employer Funds Owns Arrangement Health Reimbursement Arrangements Sometimes Called Health Reimbursement Accounts',\n",
       " 'Type Savings Account Lets Set Aside Money PreTax Basis Pay Qualified Medical Expenses Using Untaxed Dollars Health Savings Account Hsa Pay Deductibles Copayments Coinsurance Expenses May Able Lower Overall Health Care Costs Hsa Funds Generally May Used Pay Premiums Use Funds Hsa Time Pay Qualified Medical Expenses May Contribute Hsa High Deductible Health Plan Hdhp — Generally Health Plan Including Marketplace Plan Covers Preventive Services Deductible Plan Year 2022 Minimum Deductible Hdhp 1400 Individual 2800 Family View Plans Marketplace See They’Re HsaEligible 2022 Hdhp Contribute 3650 SelfOnly Coverage 7300 Family Coverage Hsa Hsa Funds Roll Year Year DonT Spend Hsa May Earn Interest Earnings Taxable Health Insurance Companies Offer Hsas Hdhps Check Company Also Open Hsa Banks Financial Institutions Related Content Learn High Deductible Health Plans Read IrsGov Publication 969 Details Hsas See Qualify See List Qualifying Medical Dental Expenses IrsGov Publication 502 Pdf',\n",
       " 'Refers Medical Conditions Physical Mental Health Claims Experience Receipt Health Care Medical History Genetic Information Evidence Insurability Disability',\n",
       " 'Plan Higher Deductible Traditional Insurance Plan Monthly Premium Usually Lower Pay Health Care Costs Insurance Company Starts Pay Share Deductible High Deductible Plan Hdhp Combined Health Savings Account Hsa Allowing Pay Certain Medical Expenses Money Free Federal Taxes 2022 Irs Defines High Deductible Health Plan Plan Deductible Least 1400 Individual 2800 Family Hdhp’S Total Yearly OutOfPocket Expenses Including Deductibles Copayments Coinsurance Can’T 7050 Individual 14100 Family Limit DoesnT Apply OutOfNetwork Services Related Content Learn Health Savings Accounts Used Individual HighDeductible Plans Get Details Hdhps Hsas Irs Publication 969 Health Savings Accounts TaxFavored Health Plans',\n",
       " 'Affordable Care Act Starting 2018 Tax Insurance Companies Provide HighCost Plans Tax Encourages Streamlining Health Plans Make Premiums Affordable',\n",
       " 'Similar PreExisting Condition Insurance Plan Affordable Care Act Years Many States Offered Plans Provide Coverage Locked Individual Insurance Market PreExisting Condition HighRisk Pool Plans May Also Offer Coverage YouRe Hipaa Eligible Meet Requirements HighRisk Pool Plans Offer Health Insurance Coverage Subsidized State Government Typically Premium Twice Much Would Pay Individual Coverage Healthy',\n",
       " 'Status 18 Months Continuous Creditable Health Coverage Hipaa Health Insurance Portability Accountability Act Eligible Least Last Day Creditable Coverage Must Group Health Plan Also Must Used Cobra State Continuation Coverage Must Eligible Medicare Medicaid Must Health Insurance Must Apply Individual Health Insurance Within 63 Days Losing Prior Creditable Coverage YouRe Buying Individual Health Insurance Hipaa Eligibility Gives Greater Protections Would Otherwise State Law',\n",
       " 'Services Support Provided State Medicaid Programs Home Community Gives Help Daily Tasks Bathing Dressing Care Covered Provided Care Workers State Permits Family',\n",
       " 'Health Care Services Person Receives Home',\n",
       " 'Services Provide Comfort Support Persons Last Stages Terminal Illness Families',\n",
       " 'Care Hospital Usually Doesn’T Require Overnight Stay',\n",
       " 'Situation Discharged Hospital Wind Going Back Related Care Within 30 60 90 Days Number Hospital Readmissions Often Used Part Measure Quality Hospital Care Since Mean FollowUp Care WasnT Properly Organized WerenT Fully Treated Discharge',\n",
       " 'Care Hospital Requires Admission Inpatient Usually Requires Overnight Stay Overnight Stay Observation Could Outpatient Care',\n",
       " 'Marketplace Generally Considers Household Spouse You’Re Married Tax Dependents Eligibility Savings Generally Based Income Household Members Even Don’T Need Insurance Related Content Who’S Included Household What’S Included Income',\n",
       " 'Individuals Organizations Trained Able Provide Help Consumers Small Businesses Employees Look Health Coverage Options Marketplace Including Helping Complete Eligibility Enrollment Forms Individuals Organizations Required Unbiased Services Free Consumers',\n",
       " 'Percent Example 20 Pay Allowed Amount Covered Health Care Services Providers Contract Health Insurance Plan InNetwork Coinsurance Usually Costs Less OutOfNetwork Coinsurance',\n",
       " 'Fixed Amount Example 15 Pay Covered Health Care Services Providers Contract Health Insurance Plan InNetwork Copayments Usually Less OutOfNetwork Copayments',\n",
       " 'Difference Information Put Marketplace Application Information Trusted Data Sources Happens Marketplace Ask Submit Documents Confirm Application Information May Include Information Household Income Immigration Status Citizenship Items Application Don’T Submit Acceptable Documents Deadline Stated Notice Could Lose Marketplace Plan Premium Tax Credits Help Costs Related Content See Documents Submit Submit Documents',\n",
       " 'Type Health Reimbursement Arrangementhealth Reimbursement Arrangements Hras EmployerFunded Group Health Plans Employees Reimbursed TaxFree Qualified Medical Expenses Fixed Dollar Amount Per Year Unused Amounts May Rolled Used Subsequent Years Employer Funds Owns Arrangement Health Reimbursement Arrangements Sometimes Called Health Reimbursement Accounts Reimburses Medical Expenses Like Monthly Premiums Requires Eligible Employees Dependents Individual Health Insurance Coverage Medicare Parts Hospital Insurance B Medical Insurance Part C Medicare Advantage Month Covered Individual Coverage Hra Employer Offer Individual Coverage Hra Instead JobBased Insurance Meets Requirements Affordability Minimum Value Standards Employees Dependents Individual Coverage Hra Offer Qualify Premium Tax Creditsa Tax Credit Use Lower Monthly Insurance Payment Called “Premium” Enroll Plan Health Insurance Marketplace® Tax Credit Based Income Estimate Household Information Put Marketplace Application Employer’S Offer Doesn’T Meet Minimum Standards Affordability Opt Individual Coverage Hra Coverage Related Content Learn Individual Coverage Hra Offers',\n",
       " 'Policies People ArenT Connected JobBased Coverage Individual Health Insurance Policies Regulated State Law',\n",
       " 'Health Care Get YouRe Admitted Inpatient Health Care Facility Like Hospital Skilled Nursing Facility',\n",
       " 'NonProfit Entity People Company Insured Company Cooperatives Formed National State Local Level Include Doctors Hospitals Businesses MemberOwners',\n",
       " 'Charge Use Borrowed Money Interest Get Bank Dividends Stock Examples Investment Income Tell Us Apply Help Paying Health Coverage',\n",
       " 'Income Get Investment Like Interest Get Bank Dividends Get Stock Information See Irs Publication 550',\n",
       " 'Coverage Offered Employee Often Family Employer',\n",
       " 'General Group Health Plan Covers Employees Employer 51 Employees States Large Groups Defined 101',\n",
       " 'Term “Lawfully Present” Used Describe Immigrants “Qualified NonCitizen” Immigration Status Without Waiting Period Humanitarian Statuses Circumstances Including Temporary Protected Status Special Juvenile Status Asylum Applicants Convention Torture Victims Trafficking Valid NonImmigrant Visas Legal Status Conferred Laws Temporary Resident Status Life Act Family Unity Individuals Related Content Immigration Status Marketplace',\n",
       " 'Cap Total Lifetime Benefits May Get Insurance Company Insurance Company May Impose Total Lifetime Dollar Limit Benefits Like 1 Million Lifetime Cap Limits Specific Benefits Like 200000 Lifetime Cap Organ Transplants One Gastric Bypass Per Lifetime Combination Two Lifetime Limit Reached Insurance Plan Longer Pay Covered Services',\n",
       " 'Plan Available Members Federally Recognized Tribes Alaska Native Claims Settlement Act Ancsa Corporation Shareholders Regardless Income Eligibility Premium Tax Credits People Enrolled Type Plan Don’T Pay CoPayments Deductibles Coinsurance Getting Care Indian Health Care Provider Need Referral ITU Getting Essential Health Benefits Marketplace Plan Avoid Paying CoPayments Deductibles CoInsurance Get Limited Cost Sharing Plan Metal Level Marketplace DonT Need Income Verified Order Enroll',\n",
       " 'Services Include Medical NonMedical Care Provided People Unable Perform Basic Activities Daily Living Dressing Bathing LongTerm Supports Services Provided Home Community Assisted Living Nursing Homes Individuals May Need LongTerm Supports Services Age Medicare Health Insurance Plans Don’T Pay LongTerm Care',\n",
       " 'Shorthand “Health Insurance Marketplace®” Shopping Enrollment Service Medical Insurance Created Affordable Care Act 2010 States Federal Government Runs Marketplace Sometimes Known Exchange Individuals Families Web Found HealthcareGov States Run Marketplaces Different Websites Fill Marketplace Application You’Ll Find Qualify Lower Monthly Premiums Savings OutOfPocket Costs Based Income May Find Qualify Medicaid Children’S Health Insurance Program Chip Shop Enroll Affordable Medical Insurance Online Phone InPerson Help Trained Assister Agent Broker Small Businesses 1 50 FullTime Equivalent Employees Offer Health AndOr Dental Insurance Employees Small Business Health Options Program Shop Related Content Find Marketplace State Get Quick Overview Marketplace Visit Shop Marketplace Small Businesses',\n",
       " 'Insurance Program Provides Free LowCost Health Coverage LowIncome People Families Children Pregnant Women Elderly People Disabilities Many States Expanded Medicaid Programs Cover People Certain Income Levels Whether Qualify Medicaid Coverage Depends Partly Whether State Expanded Program Medicaid Benefits Program Names Vary Somewhat States Apply Anytime Qualify Coverage Begin Immediately Time Year Related Content Find Qualify Medicaid Based Household Income We’Ll Also Tell Qualify Savings Health Insurance Plan Instead Learn Medicaid Apply',\n",
       " 'Basic Financial Measurement Used Affordable Care Act Encourage Health Plans Provide Value Enrollees Insurer Uses 80 Cents Every Premium Dollar Pay Customers Medical Claims Activities Improve Quality Care Company Medical Loss Ratio 80 Medical Loss Ratio 80 Indicates Insurer Using Remaining 20 Cents Premium Dollar Pay Overhead Expenses Marketing Profits Salaries Administrative Costs Agent Commissions Affordable Care Act Sets Minimum Medical Loss Ratios Different Markets State Laws Related Content Rate Review 8020 Rule',\n",
       " 'Process Used Insurance Companies Try Figure Health Status YouRe Applying Health Insurance Coverage Determine Whether Offer Coverage Price Exclusions Limits',\n",
       " 'Health Care Services Supplies Needed Diagnose Treat Illness Injury Condition Disease Symptoms Meet Accepted Standards Medicine',\n",
       " 'Federal Health Insurance Program People 65 Older Certain Younger People Disabilities Also Covers People EndStage Renal Disease Permanent Kidney Failure Requiring Dialysis Transplant Sometimes Called Esrd Medicare Isn’T Part Health Insurance Marketplace® Medicare Coverage Don’T Make Changes You’Re Considered Covered Health Care Law Related Content Learn Medicare Marketplace Changing Marketplace Medicare Visit MedicareGov',\n",
       " 'Type Medicare Health Plan Offered Private Company Contracts Medicare Provide Part Part B Benefits Medicare Advantage Plans Include Health Maintenance Organizations Preferred Provider Organizations Private FeeForService Plans Special Needs Plans Medicare Medical Savings Account Plans You’Re Enrolled Medicare Advantage Plan Medicare Services Covered Plan Aren’T Paid Original Medicare Medicare Advantage Plans Offer Prescription Drug Coverage',\n",
       " 'Tax Federal Insurance Contributions Act Fica United States Payroll Tax Imposed Federal Government Employees Employers Fund Medicare',\n",
       " 'Program Helps Pay Prescription Drugs People Medicare Join Plan Includes Medicare Prescription Drug Coverage Two Ways Get Medicare Prescription Drug Coverage Medicare Prescription Drug Plan Medicare Advantage Plan Includes Drug Coverage Plans Offered Insurance Companies Private Companies Approved Medicare',\n",
       " 'Plans Medicare Prescription Drug Coverage Part Coverage Gap Called Donut Hole Means Drug Plan Spent Certain Amount Money Covered Drugs Pay Costs OutOfPocket Prescriptions Yearly Limit Spent Yearly Limit Coverage Gap Ends Drug Plan Helps Pay Covered Drugs',\n",
       " 'Survey Conducted Consumer Assessment Healthcare Providers Systems Cahps Asks Health Plan Members Rate Care Experiences Health Plan Services',\n",
       " 'Insurance Plan Meets Affordable Care Act Requirement Health Coverage Avoid Penalty Insurance Plans 2018 Earlier Must Enrolled Plan Qualifies Minimum Essential Coverage Sometimes Called “Qualifying Health Coverage” Examples Plans Qualify Include Marketplace Plans JobBased Plans Medicare Medicaid Chip Note Starting 2019 Plan Year You’Ll File Taxes April 2020 Penalty Longer Applies Related Content See Types Plans Don’T Qualify Minimum Essential Coverage Learn Much You’Ll Pay Don’T Health Insurance 2018 Earlier',\n",
       " 'Standard Minimum Coverage Applies JobBased Health Plans Employer’S Plan Meets Standard Considered “Affordable” Won’T Qualify Premium Tax Credit Buy Marketplace Insurance Plan Instead Health Plan Meets Minimum Value Standard Apply It’S Designed Pay Least 60 Total Cost Medical Services Standard Population Benefits Include Substantial Coverage Physician Inpatient Hospital Services Find JobBased Plan Meets Minimum Value Standard Ask Employer Also Ask Fill Employer Coverage Tool Pdf 151 Kb Related Content Get Tips Accepting JobBased Coverage Know Plan Considered “Affordable”In 2023 JobBased Health Plan Considered Affordable Share Monthly Premium LowestCost Plan Offered Employer Less 912 Household Income',\n",
       " 'Figure Used Determine Eligibility Premium Tax Credits Savings Marketplace Health Insurance Plans Medicaid ChildrenS Health Insurance Program Chip Magi Adjusted Gross Income Agi Plus Untaxed Foreign Income NonTaxable Social Security Benefits TaxExempt Interest Many People Magi Identical Close Adjusted Gross Income Magi Doesn’T Include Supplemental Security Income Ssi Magi Appear Line Tax Return Related Content Report Annual Household Income Learn Adjusted Gross Income Agi Number Tax Return Help Calculate Magiyour Total “Gross” Income Tax Year Minus Certain Adjustments You’Re Allowed Take Adjustments Include Deductions Conventional Ira Contributions Student Loan Interest Adjusted Gross Income Appears Irs Form 1040 Line 11 See What’S Included Magi Estimate',\n",
       " 'General Group Health Plan ThatS Sponsored Jointly 2 Employers',\n",
       " 'Type Plan Offered Health Insurance Marketplace® Despite Name “MultiState Plans” Don’T Necessarily Network Providers Cover Services Multiple States Want Plan Carefully Read Marketplace Plan’S Documents Provider Directory Affordable Care Act Created MultiState Plan Program Increase Choice Competition Insurance Markets Nationwide Plans Sold Marketplace Contract US Office Personnel Management Opm Insurance Companies Name “MultiState Plan” Means Opm Operates Program Multiple States MultiState Plans Offer InNetwork Coverage Nationally Multiple States Many Don’T Learn MultiState Plans Opm',\n",
       " 'Individual Organization ThatS Trained Able Help Consumers Small Businesses Employees Look Health Coverage Options Marketplace Including Completing Eligibility Enrollment Forms Individuals Organizations Required Unbiased Services Free Consumers Related Content Use Find Local Help Tool Get InPerson Assistance Marketplace Application',\n",
       " 'Amount Total LongTerm Capital Gain Year ShortTerm Capital Loss Year Information Visit HttpWwwIrsGovTaxtopicsTc409Html',\n",
       " 'Amount Someone Pays Use Property Subtract Expenses Property Royalty Income Includes Payments Get Patent Copyright Natural Resource Information See Irs Publication 17 Chapter 9',\n",
       " 'Facilities Providers Suppliers Health Insurer Plan Contracted Provide Health Care Services',\n",
       " 'Health Plan Contracts Doctors Hospitals Pharmacies Health Care Providers Provide Members Plan Services Supplies Discounted Price',\n",
       " 'Used Connection Affordable Care Act Health Plan Grandfathered Health Plan Therefore Subject Reforms Affordable Care Act Individual Health Insurance Market Plan Family Purchasing First Time Generally New Plan Group Health Insurance Market Plan Employer Offering First Time Generally New Plan Please Note New Employees New Family Members May Added Existing Grandfathered Group Plans – Plan “New You” Family May Still Grandfathered Plan Individual Group Markets Plan Loses Grandfathered Status Considered New Plan Plan Loses Grandfathered Status Makes Significant Changes Plan Reducing Benefits Increasing CostSharing Enrollees Health Plan Must Disclose Plan Materials Whether Considers Grandfathered Plan Must Also Advise Consumers Contact US Department Labor US Department Health Human Services Questions',\n",
       " 'Provider Doesn’T Contract Health Insurer Plan Provide Services You’Ll Pay See NonPreferred Provider Check Policy See Go Providers Contracted Health Insurance Plan Health Insurance Plan “Tiered” Network Must Pay Extra See Providers',\n",
       " 'Requirement JobBased Coverage Discriminate Based Health Status Coverage JobBased Plans Cannot Denied Restricted Also CanT Charged Health Status JobBased Plans Restrict Coverage Based Factors PartTime Employment ArenT Related Health Status',\n",
       " 'Plan HasnT Given Seal Approval Independent Company Show Meets National Quality Standards Health Plans Many Reasons Health Plan May Accredited Example Plans Never Gone Accreditation Process Gone Process Different Accrediting Organization Plans New Accredited Started Finished Accreditation Process Accredited DoesnT Mean Plan Lower Quality Plan ThatS Accredited',\n",
       " 'Official Form Communication Informs Individuals Status Applications Eligibility Programs Important Information Notices May Sent Marketplace Health Insurers',\n",
       " 'Yearly Period November 1 – January 15 People Enroll Marketplace Health Insurance Plan Outside Open Enrollment May Still Able Enroll Marketplace Coverage Certain Life Events Like Getting Married Baby Losing Health Coverage Based Estimated Household Income JobBased Plans May Different Open Enrollment Periods Check Employer Apply Enroll Medicaid ChildrenS Health Insurance Program Chip Time Year Related Content Marketplace Dates Deadlines New Lower Costs Available',\n",
       " 'Original Medicare FeeForService Health Plan Two Parts Part Hospital Insurance Part B Medical Insurance Pay Deductible Medicare Pays Share MedicareApproved Amount Pay Share Coinsurance Deductibles',\n",
       " 'Percentage Example 40 Pay Allowed Amount Covered Health Care Services Providers DonT Contract Health Insurance Plan OutOfNetwork Coinsurance Usually Costs InNetwork Coinsurance',\n",
       " 'Fixed Amount Example 30 Pay Covered Health Care Services Providers DonT Contract Health Insurance Plan OutOfNetwork Copayments Usually InNetwork Copayments',\n",
       " 'Expenses Medical Care ArenT Reimbursed Insurance OutOfPocket Costs Include Deductibles Coinsurance Copayments Covered Services Plus Costs Services ArenT Covered Related Content Save OutOfPocket Health Care Costs Choose Marketplace Insurance OutOfPocket Costs',\n",
       " 'Estimate Amount May Pay Health Care Prescription Drug Costs Estimate Made Health Plan Processed Claim Service',\n",
       " 'Pay Covered Services Plan Year Spend Amount Deductibles Copayments Coinsurance InNetwork Care Services Health Plan Pays 100 Costs Covered Benefits OutOfPocket Limit DoesnT Include Monthly Premiumsthe Amount Pay Health Insurance Every Month Addition Premium Usually Pay Costs Health Care Including Deductible Copayments Coinsurance Marketplace Health Plan May Able Lower Costs Premium Tax Credit Anything Spend Services Plan DoesnT Cover OutOfNetwork Care Services Costs Allowed Amount Service Provider May Charge OutOfPocket Limit Marketplace Plans Varies Can’T Go Set Amount Year 2023 Plan Year OutOfPocket Limit Marketplace Plan Can’T 9100 Individual 18200 Family 2022 Plan Year OutOfPocket Limit Marketplace Plan Can’T 8700 Individual 17400 Family Related Content Estimate Total Costs Health Care Marketplace Insurance Plan Categories Learn Deductiblesthe Amount Pay Covered Health Care Services Insurance Plan Starts Pay 2000 Deductible Example Pay First 2000 Covered Services Learn Coinsurancethe Percentage Costs Covered Health Care Service Pay 20 Example YouVe Paid Deductible Learn Copaymentsa Fixed Amount 20 Example Pay Covered Health Care Service YouVe Paid Deductible',\n",
       " 'First Part Comprehensive Health Care Reform Law Enacted March 23 2010 Law Amended Health Care Education Reconciliation Act March 30 2010 Name “Affordable Care Actthe Comprehensive Health Care Reform Law Enacted March 2010 Sometimes Known Aca Ppaca “Obamacare”” Usually Used Refer Final Amended Version Law It’S Sometimes Known “Ppaca” “Aca” “Obamacare” Law Provides Numerous Rights Protections Make Health Coverage Fair Easy Understand Along Subsidies “Premium Tax Credits” “CostSharing Reductions” Make Affordable Law Also Expands Medicaid Program Cover People Low Incomes Related Content Read Affordable Care Act Rights Protections Medicaid Expansion',\n",
       " 'Research Compares Different Medical Treatments Interventions Provide Evidence Strategies Effective Different Populations Situations Goal Empower Doctor Additional Information Make Sound Health Care Decisions',\n",
       " 'Payment Structure Different Health Care Providers Treating Related Conditions Paid Overall Sum Taking Care Condition Rather Paid Individual Treatment Test Procedure Providers Rewarded Coordinating Care Preventing Complications Errors Reducing Unnecessary Duplicative Tests Treatments',\n",
       " 'Payment Fee Fine Individual Mandate Made Filed Taxes DidnT Health Insurance Counted Qualifying Health Coverage Plan Years 2018 Earlier Fee Health Insurance Longer Applies Means Longer Pay Tax Penalty Health Coverage Related Content Review Different Coverage Typesany Health Insurance Meets Affordable Care Act Requirement Coverage Fee Health Insurance Longer Applies Means Longer Pay Tax Penalty Health Coverage Learn Enrolling Catastrophic Coverage Exemption',\n",
       " 'Payment Series Payments Made Retire Work Generally Amount Income Pension Retirement Account Distribution Depends Type Pension Retirement Account Much Contributed Pension Retirement Account Whether Already Taxed Amounts Contributed Additional Information See Irs Publication 575',\n",
       " 'Health Care Services Licensed Medical Physician MD – Medical Doctor – Doctor Osteopathic Medicine Provides Coordinates',\n",
       " 'Benefit Employer Union Group Sponsor Provides Pay Health Care Services',\n",
       " 'Marketplace Health Plan Unique 14Character Identifier ThatS Combination Numbers AndOr Letters Find PlanS Id Plan Name Preview Plans Prices You’Ve Already Enrolled Plan YouLl Find PlanS Id Marketplace Account Plans Programs Note Plan Id Different Application Ideach Marketplace Application Unique Identification Number Application Id Apply Marketplace Coverage You’Ll Get Notice Eligibility Results Contains Application Id YouLl Need Application Id Continue Existing Application Compare Plans Complete Enrollment Phone Provide Application Id Marketplace Call Center Representative Find Application Faster YouRe Continuing Application Comparing Plans Enrolling Online YouLl Asked Enter Application Id Log Account Select Find Existing Application Related Content Find Plan Id Keep Change Plan',\n",
       " '12Month Period Benefits Coverage Group Health Plan 12Month Period May Calendar Year Find Plan Year Begins Check Plan Documents Ask Employer Note Individual Health Insurance Policies 12Month Period Called “Policy Year”',\n",
       " 'One 4 Categories “Metal Levels” Health Insurance Marketplace® Plans Platinum Plans Usually Highest Monthly Premiums Plan Category Pay Get Medical Care May Work Well Expect Use Great Deal Health Care Would Rather Pay Higher Premium Know Nearly Costs Covered Related Content Marketplace Insurance Categories Types Plans Provider Networks',\n",
       " 'Type Plan Pay Less Use Doctors Hospitals Health Care Providers Belong Plan’S Network Pos Plans Also Require Get Referral Primary Care Doctor Order See Specialist Related Content Type Plan Provider Network Marketplace Insurance Categories',\n",
       " '12Month Period Benefits Coverage Individual Health Insurance Plan 12Month Period May Calendar Year Find Policy Year Begins Check Policy Documents Contact Insurer Note Group Health Plans 12Month Period Called “Plan Year”',\n",
       " 'Health Problem Like Asthma Diabetes Cancer Date New Health Coverage Starts Insurance Companies CanT Refuse Cover Treatment PreExisting Condition Charge Related Content Learn Coverage PreExisting Conditions Learn Coverage Pregnancy Childbirth',\n",
       " 'Condition Either Physical Mental Including Disability Medical Advice Diagnosis Care Treatment Recommended Received Within 6Month Period Ending Enrollment Date Health Insurance Plan Genetic Information Without Diagnosis Disease Condition Cannot Treated PreExisting Condition Pregnancy Cannot Considered PreExisting Condition Newborns Newly Adopted Children Children Placed Adoption Enrolled Within 30 Days Cannot Subject PreExisting Condition Exclusions',\n",
       " 'Time Period Individual Policy WonT Pay Care Relating PreExisting Condition Individual Policy Conditions May Excluded Permanently Known Exclusionary Rider Rules PreExisting Condition Exclusion Periods Individual Policies Vary Widely State',\n",
       " 'Time Period Health Plan WonT Pay Care Relating PreExisting Condition JobBased Plan Cannot Exceed 12 Months Regular Enrollee 18 Months LateEnrollee',\n",
       " 'Program Longer Exists Created Affordable Care Act Provide Health Coverage Option Uninsured Least 6 Months PreExisting Condition Denied Coverage Offered Insurance Without Coverage PreExisting Condition Private Insurance Company',\n",
       " 'Decision Health Insurer Plan Health Care Service Treatment Plan Prescription Drug Durable Medical Equipment Medically Necessary Sometimes Called Prior Authorization Prior Approval Precertification Health Insurance Plan May Require Preauthorization Certain Services Receive Except Emergency Preauthorization Isn’T Promise Health Insurance Plan Cover Cost Related Content Doctor Choice Emergency Room Access',\n",
       " 'Provider Contract Health Insurer Plan Provide Services Discount Check Policy See See Preferred Providers Health Insurance Plan “Tiered” Network Must Pay Extra See Providers Health Insurance Plan May Preferred Providers Also “Participating” Providers Participating Providers Also Contract Health Insurer Plan Discount May Great May Pay',\n",
       " 'Type Health Plan Contracts Medical Providers Hospitals Doctors Create Network Participating Providers Pay Less Use Providers Belong Plan’S Network Use Doctors Hospitals Providers Outside Network Additional Cost Related Content Type Plan Provider Network Marketplace Insurance Categories',\n",
       " 'Amount Pay Health Insurance Every Month Addition Premium Usually Pay Costs Health Care Including Deductible Copayments Coinsurance Marketplace Health Plan May Able Lower Costs Premium Tax Credit Shopping Plan Keep Mind Plan Lowest Monthly Premium May Best Match Need Much Health Care Plan Slightly Higher Premium Lower Deductiblethe Amount Pay Covered Health Care Services Insurance Plan Starts Pay 2000 Deductible Example Pay First 2000 Covered Services May Save Lot Money Enroll Plan Must Pay First Premium Directly Insurance Company — Health Insurance Marketplace® Related Content Pay First Premium Small Businesses Pay Premium Shop Marketplace Estimate Total Health Care Costs — Including Premium Learn Premium Tax Creditsa Tax Credit Use Lower Monthly Insurance Payment Called “Premium” Enroll Plan Health Insurance Marketplace® Tax Credit Based Income Estimate Household Information Put Marketplace Application',\n",
       " 'Tax Credit Use Lower Monthly Insurance Payment Called “Premium” Enroll Plan Health Insurance Marketplace® Tax Credit Based Income Estimate Household Information Put Marketplace Application Federal Poverty Levels Fpls Premium Tax Credit Eligibility Income 100 400 Fpl Income Range States Qualify Premium Tax Credits Lower Monthly Premium Marketplace Health Insurance Plan Note Income 150 Fpl May Qualify Enroll Change Marketplace Coverage Special Enrollment Period Income 400 Fpl Income 400 Fpl May Qualify Premium Tax Credits Lower Monthly Premium 2022 Marketplace Health Insurance Plan Use None Premium Tax Credit Advance Lower Monthly Premium Use Advance Payments Tax Credit Qualify Based Final Yearly Income Must Repay Difference File Federal Income Tax Return Use Less Premium Tax Credit Qualify You’Ll Get Difference Refundable Credit File Taxes Buy Health Insurance Sources Way Get Premium Tax Credit Health Insurance Marketplace® Related Content Qualify Premium Tax Credit Save Monthly Premiums',\n",
       " 'Health Insurance Plan Helps Pay Prescription Drugs Medications Marketplace Plans Cover Prescription Drugs Related Content Getting Prescription Medications',\n",
       " 'Drugs Medications Law Require Prescription',\n",
       " 'Activities Prevent Illness Routine CheckUps Immunizations Patient Counseling Screenings',\n",
       " 'Routine Health Care Includes Screenings CheckUps Patient Counseling Prevent Illnesses Disease Health Problems Related Content Preventive Care Benefits',\n",
       " 'Health Services Cover Range Prevention Wellness Treatment Common Illnesses Primary Care Providers Include Doctors Nurses Nurse Practitioners Physician Assistants Often Maintain LongTerm Relationships Advise Treat Range Health Related Issues May Also Coordinate Care Specialists',\n",
       " 'Physician MD – Medical Doctor – Doctor Osteopathic Medicine Directly Provides Coordinates Range Health Care Services Patient',\n",
       " 'Physician MD – Medical Doctor – Doctor Osteopathic Medicine Nurse Practitioner Clinical Nurse Specialist Physician Assistant Allowed State Law Provides Coordinates Helps Patient Access Range Health Care Services',\n",
       " 'Approval Health Plan May Required Get Service Fill Prescription Order Service Prescription Covered Plan',\n",
       " 'Field Seeks Improve Lives Health Communities Prevention Treatment Disease Promotion Healthy Behaviors Healthy Eating Exercise',\n",
       " 'Small Employers DonT Offer Group Health Coverage Employees Help Employees Pay Medical Expenses Qualified Small Employer Health Reimbursement Arrangement Qsehra Employer Offers Qsehra Use Help Pay HouseholdS Health Care Costs Like Monthly Premium Qualifying Health Coverageany Health Insurance Meets Affordable Care Act Requirement Coverage Fee Health Insurance Longer Applies Means Longer Pay Tax Penalty Health Coverage Related Content Information Employees Offered Qsehra Information Employers Offering Qsehra',\n",
       " 'Insurance Plan That’S Certified Health Insurance Marketplace® Provides Essential Health Benefits Follows Established Limits CostSharing Like Deductibles Copayments OutOfPocket Maximum Amounts Meets Requirements Affordable Care Act Qualified Health Plans Meet Affordable Care Act Requirement Health Coverage Known “Minimum Essential Coverage” Related Content Learn Marketplace Plans Cover See Plan Types Meet Affordable Care Act Requirement Coverage',\n",
       " 'Health Insurance Meets Affordable Care Act Requirement Coverage Fee Health Insurance Longer Applies Means Longer Pay Tax Penalty Health Coverage Examples Individual Plans Including Marketplace Plans JobBased Plans Medicare Medicaid Chip Complete List Qualifying Health Coverage Health Plan Brought Health Insurance Marketplace® Individual Plans Bought Outside Marketplace Meet Standards Qualified Health Plans Medicare Part Hospital Insurance Medicare Advantage Plan Part C Medicare Part B Medical Insurance Medicare Drug Coverage Part Don’T Count Medicaid Except Limited Coverage Plans ChildrenS Health Insurance Program Chip Coverage ParentS Plan Student Health Plans Ask School Plan Counts Tricare Plans Sold Small Business Health Insurance Program Shop Marketplace Health Coverage Peace Corps Volunteers Certain Types Veterans Health Coverage Department Veterans Affairs Grandfathered Individual Insurance Plan You’Ve Since March 23 2010 Earlier Department Defense Nonappropriated Fund Health Benefits Program Refugee Medical Assistance State HighRisk Pools Plan Policy Years Started December 31 2014 Check HighRisk Pool Plan See Counts Qualifying Health Coverage Related Content Get Detailed List Types Plans Don’T Count Qualifying Health Coverage Irs Learn Enrolling Catastrophic Coverage Exemption Get Quick Guide Marketplace',\n",
       " 'Change Situation — Like Getting Married Baby Losing Health Coverage — Make Eligible Special Enrollment Period Allowing Enroll Health Insurance Outside Yearly Open Enrollment Period Notice Find Qualify Special Enrollment Period Get Started 4 Basic Types Qualifying Life Events Following Examples Full List Loss Health Coverage Losing Existing Health Coverage Including JobBased Individual Student Plans Losing Eligibility Medicare Medicaid Chip Turning 26 Losing Coverage Parent’S Plan Changes Household Getting Married Divorced Baby Adopting Child Death Family Changes Residence Moving Different Zip Code County Student Moving Place Attend School Seasonal Worker Moving Place Live Work Moving Shelter Transitional Housing Qualifying Events Changes Income Affect Coverage Qualify Gaining Membership Federally Recognized Tribe Status Alaska Native Claims Settlement Act Ancsa Corporation Shareholder Becoming US Citizen Leaving Incarceration Jail Prison Americorps Members Starting Ending Service Related Content Get Qualifying Life Events',\n",
       " 'Ratings Marketplace Health Plan Quality Shown 1 5 Stars Plan Information Pages Health Plan “Overall” Quality Rating Based Scores 3 Elements Member Experience Medical Care Plan Administration Ratings 2023 Based Data Provided 2022 Cases — Like Plans New Low Enrollment — Ratings Aren’T Available Related Content Pick Health Plan Learn Quality Ratings',\n",
       " 'Process Allows State Insurance Departments Review Rate Increases Insurance Companies Apply Related Content Look Insurance Plan See Proposed Final Rate Increase',\n",
       " 'Find Used Right Amount Premium Tax Credit Year Reconcile Compare Two Amounts Premium Tax Credit Used Advance Year Amount Tax Credit Qualify Based Final Income You’Ll Use Irs Form 8962 Used Premium Tax Credit Qualify You’Ll Pay Difference Federal Taxes Used Less You’Ll Get Difference Credit Related Content Learn Taxes Health Coverage Irs Form 8962 – Premium Tax Credit Pdf',\n",
       " 'Surgery FollowUp Treatment Needed Correct Improve Part Body Birth Defects Accidents Injuries Medical Conditions',\n",
       " 'Written Order Primary Care Doctor See Specialist Get Certain Medical Services Many Health Maintenance Organizations Hmos Need Get Referral Get Medical Care Anyone Except Primary Care Doctor Don’T Get Referral First Plan May Pay Services',\n",
       " 'Health Care Services Help Keep Get Back Improve Skills Functioning Daily Living Lost Impaired Sick Hurt Disabled Services May Include Physical Occupational Therapy SpeechLanguage Pathology Psychiatric Rehabilitation Services Variety Inpatient AndOr Outpatient Settings',\n",
       " 'Reimbursement System Protects Insurers High Claims Usually Involves Third Party Paying Part Insurance Company’S Claims Pass Certain Amount Reinsurance Way Stabilize Insurance Market Make Coverage Available Affordable',\n",
       " 'Amount Someone Pays Use Property Subtract Expenses Property Royalty Income Includes Payments Get Patent Copyright Natural Resource Information See Irs Publication 17 Chapter 9',\n",
       " 'Retroactive Cancellation Health Insurance Policy Insurance Companies Sometimes Retroactively Cancel Entire Policy Made Mistake Initial Application Buy Individual Market Insurance Policy Affordable Care Act Rescission Illegal Except Cases Fraud Intentional Misrepresentation Material Fact Prohibited Terms Plan Coverage',\n",
       " 'Payment Series Payments Made Retire Work Generally Amount Income Pension Retirement Account Distribution Depends Type Pension Retirement Account Much Contributed Pension Retirement Account Whether Already Taxed Amounts Contributed Qualified Distribution Designated Roth Account IsnT Required Included Income Additional Information See Irs Publication 575',\n",
       " 'Rider Amendment Insurance Policy Riders Add Coverage Example Buy Maternity Rider Add Coverage Pregnancy Policy',\n",
       " 'Statistical Process Takes Account Underlying Health Status Health Spending Enrollees Insurance Plan Looking Health Care Outcomes Health Care Costs',\n",
       " 'Lawful Marriage Spouses Sex SameSex Marriage Legal Recognized Every US State District Columbia Long SameSex Couple Married Jurisdiction Legal Authority Authorize Marriage Health Insurance Company Offers Health Coverage OppositeSex Spouses Must SameSex Spouses Health Insurance Marketplace® Also Treats Married SameSex Couples Married OppositeSex Couples Every State Apply Premium Tax Credits Lower OutOfPocket Costs Private Insurance Plans Related Content Health Care Coverage Options Sex Couples',\n",
       " 'SecondLowest Priced Marketplace Health Insurance Plan Silver Category Applies May Plan Enrolled Need Know Second Lowest Cost Silver Plan Slcsp Premium Figure Final Premium Tax Credit Cases You’Ll Find Slcsp Premium Form 1095A Marketplace Sends Form 1095A Early Year Someone Household Marketplace Health Plan Also Use Tax Tool Get Slcsp Related Content Use Slcsp Figure Premium Tax Credit Know Slcsp Information Correct Form 1095A Use Tax Tool Find Slcsp',\n",
       " 'Net Income Earn Trade Business Example Net Income Profit Earn Goods Sell Services Provide Others Counts SelfEmployment Income SelfEmployment Income Could Also Come Distributive Share Partnership',\n",
       " 'Accurate Detailed Record SelfEmployment Income Expenses Spreadsheet Document Accounting Software Program Handwritten Ledger Book Anything Records SelfEmployment Income Expenses Related Content Find Report SelfEmployment Income Marketplace',\n",
       " 'Type Plan Usually Present Larger Companies Employer Collects Premiums Enrollees Takes Responsibility Paying Employees’ Dependents’ Medical Claims Employers Contract Insurance Services Enrollment Claims Processing Provider Networks Third Party Administrator SelfAdministered',\n",
       " 'Geographic Area Health Insurance Plan Accepts Members Limits Membership Based People Live Plans Limit Doctors Hospitals May Use Also Generally Area Get Routine NonEmergency Services Plan May End Coverage Move PlanS Service Area',\n",
       " 'One 4 Categories Health Insurance Marketplace® Plans Sometimes Called “Metal Levels” Silver Plans Fall Middle Pay Moderate Monthly Premiums Moderate Costs Need Care Important Qualify “Cost Sharing Reductions” “Extra Savings” Save Lot Money Deductibles Copayments Coinsurance Get Care — Pick Silver Plan Silver Plans Common Choice Marketplace Shoppers Related Content Marketplace Insurance Categories Types Plans Provider Networks Save OutOfPocket Costs — Silver Plan',\n",
       " 'Services Licensed Nurses Home Nursing Home Skilled Care Services Technicians Therapists Home Nursing Home',\n",
       " 'Skilled Nursing Care Rehabilitation Services Provided Continuous Daily Basis Skilled Nursing Facility Examples Skilled Nursing Facility Care Include Physical Therapy Intravenous Injections Given Registered Nurse Doctor',\n",
       " 'Small Business Health Options Program Shop Helps Small Business Owners Provide Medical AndOr Dental Insurance Employees Smaller Employers Qualify Tax Credits Enroll Shop Insurance Small Business Offer Shop Health AndOr Dental Insurance Employees 1 50 FullTime Equivalent Fte Employees Note Business Must Least One FullTime Equivalent Employee Owners Partners Family Members Offer Coverage FullTime Employees Enroll Least 70 Employees Offered Insurance Exceptions Small Business Owners Use Agent Broker Enroll Shop Insurance Work Insurance Company There’S Limited Enrollment Period Shop Apply Pick Plans Enroll Employees Time Year Related Content Learn Shop Learn Working Agents Brokers SelfEmployed Employees Learn Health Coverage Options',\n",
       " 'System Distributes Financial Benefits Retired Disabled People Spouses Dependent Children Based Reported Earnings Work May Pay Taxes Social Security System Retire Become Disabled Spouse Dependent Children May Get Monthly Benefits Based Reported Earnings Survivors May Able Collect Social Security Benefits Die',\n",
       " 'Amount Get Social Security Disability Retirement Including Railroad Retirement SurvivorS Benefits Month',\n",
       " 'Social Security Benefits Based Record Die Paid WidowWidower Age 60 Older 50 Older Disabled Age Caring Child Age 16 Disabled Age 22 Children Unmarried Age 18 19 Still School 18 Older Disabled Age 22 Parents Provided Least OneHalf Support ExSpouse Could Also Eligible WidowWidowerS Benefit Record Special OneTime Lump Sum Payment 255 May Made Spouse Minor Children',\n",
       " 'Time Outside Yearly Open Enrollment Period Sign Health Insurance Qualify Special Enrollment Period You’Ve Certain Life Events Including Losing Health Coverage Moving Getting Married Baby Adopting Child Household Income Certain Amount Depending Special Enrollment Period Type May 60 Days 60 Days Following Event Enroll Plan Enroll Medicaid Children’S Health Insurance Program Chip Time JobBased Plans Must Provide Special Enrollment Period Least 30 Days Related Content Check Qualify Special Enrollment Period Learn Special Enrollment Periods Get Open Enrollment Dates Deadlines New Lower Costs Available',\n",
       " 'Health Care Related Needs Children Chronic Physical Developmental Behavioral Emotional Conditions Needs Type Amount Beyond Required Children Generally',\n",
       " 'Physician Specialist Focuses Specific Area Medicine Group Patients Diagnose Manage Prevent Treat Certain Types Symptoms Conditions NonPhysician Specialist Provider Training Specific Area Health Care',\n",
       " 'Individual Can’T Locate Spouse Making Reasonable Attempt Find Also Known Desertion You’Re Victim Spousal Abandonment Select “Unmarried” Marketplace Application Allow Qualify Premium Tax Credits Savings Based Income Related Content Special Enrollment Periods Complex Issues',\n",
       " 'Type Dental Plan Offered Marketplace That’S Included Part Health Plan May Want Health Coverage Choose Doesn’T Include Dental Want Different Dental Coverage Related Content Dental Coverage Marketplace',\n",
       " 'StateBased Requirement Similar Cobra Applies Group Health Insurance Policies Employers Fewer 20 Employees States State Continuation Coverage Rules Also Apply Larger Group Insurance Policies Add Cobra Protections Example States YouRe Leaving JobBased Plan Must Allowed Continue Coverage Reach Age Medicare Eligibility',\n",
       " 'State Program Gets Funding Federal Government Provide Free Local Health Coverage Counseling People Medicare',\n",
       " 'State Agency Regulates Insurance Provide Information Health Coverage State',\n",
       " 'State Agency Charge StateS Medicaid Program Give Information Programs State Help Pay Medical Bills People Limited Income Resources',\n",
       " 'Health Coverage Available Reduced Cost People Incomes Certain Levels Examples Subsidized Coverage Include Medicaid Children’S Health Insurance Program Chip Marketplace Insurance Plans Premium Tax Credits Sometimes Known Subsidized Coverage States Expanded Medicaid Coverage Household Income Must 138 Federal Poverty Level Fpl Qualify States Household Income Must 100 400 Fpl Qualify Premium Tax Credit Lower Insurance Costs Income 150 Fpl May Qualify Enroll Change Marketplace Coverage Special Enrollment Period Income 400 Fpl May Still Qualify Savings 2022 Marketplace Health Insurance Plan Related Content Income Levels Qualify Lower Health Coverage Costs Medicaid Chip Coverage Save Monthly Insurance Premiums',\n",
       " 'EasyToRead Summary Lets Make ApplesToApples Comparisons Costs Coverage Health Plans Compare Options Based Price Benefits Features May Important YouLl Get Summary Benefits Coverage Sbc Shop Coverage Job Renew Change Coverage Request Sbc Health Insurance Company',\n",
       " 'Monthly Benefit Paid Social Security People Limited Income Resources Disabled Blind 65 Older Ssi Benefits ArenT Social Security Retirement Disability Benefits Related Content Learn Ssi Benefits Including Apply Social Security Administration',\n",
       " 'Minimum Amount Threshold Income Requiring File Federal Tax Return 2022 Filing Requirements Taxpayers Gross Income Least 12950 Individuals 25900 Married Filing Jointly Different Thresholds Apply Dependents People 65 Older Use Tax Filing Statuses Like Married Filing Separately Related Content Irs Details Filing Requirements Taxpayers NonDependents Irs Filing Thresholds Dependents Irs Information Tax Filing Status',\n",
       " 'Minimum Income Requiring Dependent File Federal Tax Return 2022 Filing Requirements Dependents 65 Earned Income Least 12950 Unearned Income Like Investments Trusts Least 1150 Must Include Marketplace Application Income Dependent Required File Different Thresholds Apply Dependents 65 Older Blind Earned Income Like Wages Salaries Unearned Income Taxpayers ArenT Dependents Filing Thresholds Related Content Irs Details Filing Thresholds Dependents Irs Filing Requirements Taxpayers NonDependents',\n",
       " 'TaxpayerS Individuals Claimed Dependents One Federal Income Tax Return Tax Household May Include Spouse AndOr Dependents Related Content Who’S Included Household What’S Included Income',\n",
       " 'Total Amount May Pay Health Plan Coverage Estimated Actually Coverage Health Expenses Coverage Generally Total Cost Premium Deductible OutOfPocket Costs CopaymentsCoinsurance Preview Plans HealthcareGov You’Ll See Estimate Total Costs Actual Expenses Likely Vary Related Content Understanding Total Costs',\n",
       " 'Transgender Person’S Assigned Sex Birth Doesn’T Match Gender Identity Expression Behavior Transgender People Important Details Consider Health Insurance Marketplace® Including Name Sex Put Marketplace Application SexSpecific Recommended Preventive Servicesroutine Health Care Includes Screenings CheckUps Patient Counseling Prevent Illnesses Disease Health Problems Health Insurance Plans Transgender Exclusions Related Content Transgender Health Care',\n",
       " 'Health Care Program ActiveDuty Retired Uniformed Services Members Families',\n",
       " 'Tty Teletypewriter Communication Device Used People Deaf HardOfHearing Severe Speech Impairment People DonT Tty Communicate Tty User Message Relay Center Mrc Mrc Tty Operators Available Send Interpret Tty Messages',\n",
       " 'Amount Paid Medical Service Geographic Area Based Providers Area Usually Charge Similar Medical Service Ucr Amount Sometimes Used Determine Allowed Amount',\n",
       " 'Health Care Services Provided Hospitals Health Care Providers DonT Get Reimbursed Often Uncompensated Care Arises People DonT Insurance Cannot Afford Pay Cost Care',\n",
       " 'Health Programs Available American Indians Alaska Natives Living Urban Areas Urban Health Programs Serve Members Descendants Federally Recognized Tribes Bands Organized Groups Indians Including Tribes Bands Groups Terminated Since 1940 Members Descendants First Second Degree State Recognized Tribes Eskimos Aleuts Alaska Natives Descendants Related Content Get Health Coverage Information American Indians Alaska Natives',\n",
       " 'Care Illness Injury Condition Serious Enough Reasonable Person Would Seek Care Right Away Severe Requires Emergency Room Care',\n",
       " 'Linking Provider Payments Improved Performance Health Care Providers Form Payment Holds Health Care Providers Accountable Cost Quality Care Provide Attempts Reduce Inappropriate Care Identify Reward BestPerforming Providers',\n",
       " 'Health Benefit Least Partially Covers Vision Care Like Eye Exams Glasses Plans Health Insurance Marketplace® Include Vision Coverage Children Plans Include Vision Coverage Adults Adult Vision Coverage Important Check Details Plan You’Re Considering Plan Doesn’T Include Adult Vision Coverage Buy “StandAlone” Vision Plan Reduce Vision Care Expenses Marketplace Doesn’T Offer StandAlone Vision Plans Shop StandAlone Vision Plans Contact Insurance Agent Broker Search Plans Online Also Contact State’S Department Insurance Related Content Find Marketplace Plans Cover Learn Preventive Care Benefits Children',\n",
       " 'Time Must Pass Coverage Become Effective Employee Dependent Otherwise Eligible Coverage JobBased Health Plan',\n",
       " 'Routine Doctor Visits Comprehensive Preventive Health Services Occur Baby Young Annual Visits Child Reaches Age 21 Services Include Physical Exam Measurements Vision Hearing Screening Oral Health Risk Assessments',\n",
       " 'Program Intended Improve Promote Health Fitness ThatS Usually Offered Work Place Although Insurance Plans Offer Directly Enrollees Program Allows Employer Plan Offer Premium Discounts Cash Rewards Gym Memberships Incentives Participate Examples Wellness Programs Include Programs Help Stop Smoking Diabetes Management Programs Weight Loss Programs Preventative Health Screenings Related Content Information Health Care Law Small Businesses',\n",
       " 'Insurance Plan Employers Required Cover Employees Get Sick Injured Job',\n",
       " 'Plan Available Members Federally Recognized Tribes Alaska Native Claims Settlement Act Ancsa Corporation Shareholders Whose Income 100 300 Federal Poverty Level Qualify Premium Tax Credits People Enrolled Type Plan Don’T Pay CoPayments Deductibles Coinsurance Getting Care Indian Health Care Provider Getting Essential Health Benefits Marketplace Plan Don’T Need Referral Indian Health Care Provider Getting Essential Health Benefits Marketplace Plan Get Zero Costs Sharing Plan Metal Level Marketplace Must Agree Income Verified Order Enroll']"
      ]
     },
     "execution_count": 4,
     "metadata": {},
     "output_type": "execute_result"
    }
   ],
   "source": [
    "corpus"
   ]
  },
  {
   "cell_type": "code",
   "execution_count": 5,
   "id": "dd9ce688",
   "metadata": {},
   "outputs": [],
   "source": [
    "#len(df['concated_text'])\n",
    "df=df.groupby(['Benefit_name','Web_link'])['Description'].sum()"
   ]
  },
  {
   "cell_type": "code",
   "execution_count": 6,
   "id": "9c6ceb4a",
   "metadata": {},
   "outputs": [
    {
     "data": {
      "text/html": [
       "<div>\n",
       "<style scoped>\n",
       "    .dataframe tbody tr th:only-of-type {\n",
       "        vertical-align: middle;\n",
       "    }\n",
       "\n",
       "    .dataframe tbody tr th {\n",
       "        vertical-align: top;\n",
       "    }\n",
       "\n",
       "    .dataframe thead th {\n",
       "        text-align: right;\n",
       "    }\n",
       "</style>\n",
       "<table border=\"1\" class=\"dataframe\">\n",
       "  <thead>\n",
       "    <tr style=\"text-align: right;\">\n",
       "      <th></th>\n",
       "      <th></th>\n",
       "      <th>Description</th>\n",
       "    </tr>\n",
       "    <tr>\n",
       "      <th>Benefit_name</th>\n",
       "      <th>Web_link</th>\n",
       "      <th></th>\n",
       "    </tr>\n",
       "  </thead>\n",
       "  <tbody>\n",
       "    <tr>\n",
       "      <th>Abortion services</th>\n",
       "      <th>https://www.healthcare.gov/glossary/abortion-services/</th>\n",
       "      <td>Federal law prohibits federal funds, including...</td>\n",
       "    </tr>\n",
       "    <tr>\n",
       "      <th>Accountable care organization</th>\n",
       "      <th>https://www.healthcare.gov/glossary/accountable-care-organization/</th>\n",
       "      <td>A group of health care providers who give coor...</td>\n",
       "    </tr>\n",
       "    <tr>\n",
       "      <th>Accreditation</th>\n",
       "      <th>https://www.healthcare.gov/glossary/accreditation/</th>\n",
       "      <td>If a Marketplace health plan is approved, this...</td>\n",
       "    </tr>\n",
       "    <tr>\n",
       "      <th>Actuarial value</th>\n",
       "      <th>https://www.healthcare.gov/glossary/actuarial-value/</th>\n",
       "      <td>The percentage of total average costs for cove...</td>\n",
       "    </tr>\n",
       "    <tr>\n",
       "      <th>Adjusted Gross Income (AGI)</th>\n",
       "      <th>https://www.healthcare.gov/glossary/adjusted-gross-income-agi/</th>\n",
       "      <td>Your total (or “gross”) income for the tax yea...</td>\n",
       "    </tr>\n",
       "    <tr>\n",
       "      <th>...</th>\n",
       "      <th>...</th>\n",
       "      <td>...</td>\n",
       "    </tr>\n",
       "    <tr>\n",
       "      <th>Waiting period (job-based coverage)</th>\n",
       "      <th>https://www.healthcare.gov/glossary/waiting-period-job-based-coverage/</th>\n",
       "      <td>The time that must pass before coverage can be...</td>\n",
       "    </tr>\n",
       "    <tr>\n",
       "      <th>Well-baby and well-child visits</th>\n",
       "      <th>https://www.healthcare.gov/glossary/well-baby-and-well-child-visits/</th>\n",
       "      <td>Routine doctor visits for comprehensive preven...</td>\n",
       "    </tr>\n",
       "    <tr>\n",
       "      <th>Wellness program</th>\n",
       "      <th>https://www.healthcare.gov/glossary/wellness-programs/</th>\n",
       "      <td>A program intended to improve and promote heal...</td>\n",
       "    </tr>\n",
       "    <tr>\n",
       "      <th>Worker's compensation</th>\n",
       "      <th>https://www.healthcare.gov/glossary/workers-compensation/</th>\n",
       "      <td>An insurance plan that employers are required ...</td>\n",
       "    </tr>\n",
       "    <tr>\n",
       "      <th>Zero cost sharing plan</th>\n",
       "      <th>https://www.healthcare.gov/glossary/zero-cost-sharing-plan/</th>\n",
       "      <td>A plan available to members of federally recog...</td>\n",
       "    </tr>\n",
       "  </tbody>\n",
       "</table>\n",
       "<p>257 rows × 1 columns</p>\n",
       "</div>"
      ],
      "text/plain": [
       "                                                                                                                              Description\n",
       "Benefit_name                        Web_link                                                                                             \n",
       "Abortion services                   https://www.healthcare.gov/glossary/abortion-se...  Federal law prohibits federal funds, including...\n",
       "Accountable care organization       https://www.healthcare.gov/glossary/accountable...  A group of health care providers who give coor...\n",
       "Accreditation                       https://www.healthcare.gov/glossary/accreditation/  If a Marketplace health plan is approved, this...\n",
       "Actuarial value                     https://www.healthcare.gov/glossary/actuarial-v...  The percentage of total average costs for cove...\n",
       "Adjusted Gross Income (AGI)         https://www.healthcare.gov/glossary/adjusted-gr...  Your total (or “gross”) income for the tax yea...\n",
       "...                                                                                                                                   ...\n",
       "Waiting period (job-based coverage) https://www.healthcare.gov/glossary/waiting-per...  The time that must pass before coverage can be...\n",
       "Well-baby and well-child visits     https://www.healthcare.gov/glossary/well-baby-a...  Routine doctor visits for comprehensive preven...\n",
       "Wellness program                    https://www.healthcare.gov/glossary/wellness-pr...  A program intended to improve and promote heal...\n",
       "Worker's compensation               https://www.healthcare.gov/glossary/workers-com...  An insurance plan that employers are required ...\n",
       "Zero cost sharing plan              https://www.healthcare.gov/glossary/zero-cost-s...  A plan available to members of federally recog...\n",
       "\n",
       "[257 rows x 1 columns]"
      ]
     },
     "execution_count": 6,
     "metadata": {},
     "output_type": "execute_result"
    }
   ],
   "source": [
    "#df = df.drop(columns=['Unnamed: 0'])\n",
    "df=df.to_frame()\n",
    "df"
   ]
  },
  {
   "cell_type": "code",
   "execution_count": 7,
   "id": "64a14976",
   "metadata": {},
   "outputs": [
    {
     "name": "stdout",
     "output_type": "stream",
     "text": [
      "<class 'pandas.core.frame.DataFrame'>\n",
      "MultiIndex: 257 entries, ('Abortion services', 'https://www.healthcare.gov/glossary/abortion-services/') to ('Zero cost sharing plan', 'https://www.healthcare.gov/glossary/zero-cost-sharing-plan/')\n",
      "Data columns (total 1 columns):\n",
      " #   Column       Non-Null Count  Dtype \n",
      "---  ------       --------------  ----- \n",
      " 0   Description  257 non-null    object\n",
      "dtypes: object(1)\n",
      "memory usage: 7.1+ KB\n"
     ]
    }
   ],
   "source": [
    "df.info()"
   ]
  },
  {
   "cell_type": "code",
   "execution_count": null,
   "id": "f587d134",
   "metadata": {},
   "outputs": [],
   "source": []
  },
  {
   "cell_type": "code",
   "execution_count": 8,
   "id": "c29aaa3b",
   "metadata": {},
   "outputs": [
    {
     "data": {
      "text/plain": [
       "Dataset({\n",
       "    features: ['Description', 'Benefit_name', 'Web_link'],\n",
       "    num_rows: 257\n",
       "})"
      ]
     },
     "execution_count": 8,
     "metadata": {},
     "output_type": "execute_result"
    }
   ],
   "source": [
    "from datasets import Dataset\n",
    "\n",
    "comments_dataset = Dataset.from_pandas(df)\n",
    "comments_dataset"
   ]
  },
  {
   "cell_type": "code",
   "execution_count": 12,
   "id": "dc1ca89d",
   "metadata": {},
   "outputs": [],
   "source": [
    "#comments_dataset['concated_text'][0]"
   ]
  },
  {
   "cell_type": "code",
   "execution_count": 13,
   "id": "f2ec950c",
   "metadata": {},
   "outputs": [],
   "source": [
    "# from sentence_transformers import SentenceTransformer\n",
    "sentence_transformer = SentenceTransformer('sentence-transformers/all-MiniLM-L6-v2')\n",
    "embedding_dim = 384\n",
    "\n",
    "#Define input_layer\n",
    "input_layer = Input(shape=(None,embedding_dim)), name=\"input_layer\")"
   ]
  },
  {
   "cell_type": "code",
   "execution_count": 16,
   "id": "b51cd8f7",
   "metadata": {},
   "outputs": [],
   "source": [
    "from sentence_transformers import SentenceTransformer, models\n",
    "\n",
    "## Step 1: use an existing language model\n",
    "word_embedding_model = models.Transformer('sentence-transformers/all-MiniLM-L6-v2')\n",
    "\n",
    "## Step 2: use a pool function over the token embeddings\n",
    "pooling_model = models.Pooling(word_embedding_model.get_word_embedding_dimension())\n",
    "\n",
    "## Join steps 1 and 2 using the modules argument\n",
    "model = SentenceTransformer(modules=[word_embedding_model, pooling_model])"
   ]
  },
  {
   "cell_type": "code",
   "execution_count": null,
   "id": "18b2efbb",
   "metadata": {},
   "outputs": [],
   "source": []
  },
  {
   "cell_type": "code",
   "execution_count": null,
   "id": "36da16af",
   "metadata": {},
   "outputs": [],
   "source": []
  },
  {
   "cell_type": "code",
   "execution_count": null,
   "id": "cdeadaac",
   "metadata": {},
   "outputs": [],
   "source": []
  },
  {
   "cell_type": "code",
   "execution_count": null,
   "id": "67ab2d24",
   "metadata": {},
   "outputs": [],
   "source": []
  },
  {
   "cell_type": "code",
   "execution_count": null,
   "id": "c69ba883",
   "metadata": {},
   "outputs": [],
   "source": []
  },
  {
   "cell_type": "code",
   "execution_count": 17,
   "id": "eca04899",
   "metadata": {},
   "outputs": [],
   "source": [
    "# embedding = get_embeddings(comments_dataset[\"concated_text\"][0])\n",
    "# embedding.shape"
   ]
  },
  {
   "cell_type": "code",
   "execution_count": 18,
   "id": "2f306a6c",
   "metadata": {},
   "outputs": [
    {
     "data": {
      "text/plain": [
       "Dataset({\n",
       "    features: ['Description', 'Benefit_name', 'Web_link'],\n",
       "    num_rows: 257\n",
       "})"
      ]
     },
     "execution_count": 18,
     "metadata": {},
     "output_type": "execute_result"
    }
   ],
   "source": [
    "comments_dataset"
   ]
  },
  {
   "cell_type": "code",
   "execution_count": 19,
   "id": "d9266190",
   "metadata": {},
   "outputs": [
    {
     "name": "stderr",
     "output_type": "stream",
     "text": [
      "                                                                                                                       \r"
     ]
    }
   ],
   "source": [
    "import numpy\n",
    "embeddings_dataset = comments_dataset.map(\n",
    "    lambda x: {\"embeddings\": get_embeddings(x[\"Description\"]).numpy()}\n",
    ")"
   ]
  },
  {
   "cell_type": "code",
   "execution_count": 20,
   "id": "d07427ed",
   "metadata": {},
   "outputs": [
    {
     "data": {
      "text/plain": [
       "Dataset({\n",
       "    features: ['Description', 'Benefit_name', 'Web_link', 'embeddings'],\n",
       "    num_rows: 257\n",
       "})"
      ]
     },
     "execution_count": 20,
     "metadata": {},
     "output_type": "execute_result"
    }
   ],
   "source": [
    "embeddings_dataset"
   ]
  },
  {
   "cell_type": "code",
   "execution_count": null,
   "id": "db7a2fb2",
   "metadata": {},
   "outputs": [],
   "source": [
    "#df2=pd.DataFrame(embeddings_dataset)"
   ]
  },
  {
   "cell_type": "code",
   "execution_count": null,
   "id": "b6e2fe90",
   "metadata": {},
   "outputs": [],
   "source": [
    "#df2.head()"
   ]
  },
  {
   "cell_type": "code",
   "execution_count": null,
   "id": "4fa523e0",
   "metadata": {},
   "outputs": [],
   "source": []
  },
  {
   "cell_type": "code",
   "execution_count": null,
   "id": "d003179c",
   "metadata": {},
   "outputs": [],
   "source": []
  },
  {
   "cell_type": "code",
   "execution_count": 21,
   "id": "152d8291",
   "metadata": {},
   "outputs": [
    {
     "data": {
      "text/plain": [
       "257"
      ]
     },
     "execution_count": 21,
     "metadata": {},
     "output_type": "execute_result"
    }
   ],
   "source": [
    "len(embeddings_dataset['embeddings'])"
   ]
  },
  {
   "cell_type": "code",
   "execution_count": 22,
   "id": "eaeb8bc4",
   "metadata": {},
   "outputs": [
    {
     "name": "stderr",
     "output_type": "stream",
     "text": [
      "100%|██████████████████████████████████████████████████████████████████████████████████| 1/1 [00:00<00:00, 1002.46it/s]\n"
     ]
    },
    {
     "data": {
      "text/plain": [
       "Dataset({\n",
       "    features: ['Description', 'Benefit_name', 'Web_link', 'embeddings'],\n",
       "    num_rows: 257\n",
       "})"
      ]
     },
     "execution_count": 22,
     "metadata": {},
     "output_type": "execute_result"
    }
   ],
   "source": [
    "embeddings_dataset.add_faiss_index(column=\"embeddings\")"
   ]
  },
  {
   "cell_type": "code",
   "execution_count": 23,
   "id": "ba6d1d58",
   "metadata": {},
   "outputs": [
    {
     "data": {
      "text/plain": [
       "(1, 384)"
      ]
     },
     "execution_count": 23,
     "metadata": {},
     "output_type": "execute_result"
    }
   ],
   "source": [
    "question = \"WheelChair\"\n",
    "question_embedding = get_embeddings([question]).numpy()\n",
    "question_embedding.shape"
   ]
  },
  {
   "cell_type": "code",
   "execution_count": 24,
   "id": "d457505e",
   "metadata": {},
   "outputs": [],
   "source": [
    "scores, samples = embeddings_dataset.get_nearest_examples(\n",
    "    \"embeddings\", question_embedding, k=10\n",
    ")"
   ]
  },
  {
   "cell_type": "code",
   "execution_count": 25,
   "id": "4ae0d7b3",
   "metadata": {},
   "outputs": [],
   "source": [
    "import pandas as pd\n",
    "\n",
    "samples_df = pd.DataFrame.from_dict(samples)\n",
    "samples_df[\"scores\"] = scores\n",
    "samples_df.sort_values(\"scores\", ascending=False, inplace=True)"
   ]
  },
  {
   "cell_type": "code",
   "execution_count": 26,
   "id": "dfb37588",
   "metadata": {},
   "outputs": [
    {
     "name": "stdout",
     "output_type": "stream",
     "text": [
      "Service name: Uncompensated care\n",
      "SCORE: 63.21757888793945\n",
      "\n",
      "\n",
      "concated_text: Health care or services provided by hospitals or health care providers that don't get reimbursed. Often uncompensated care arises when people don't have insurance and cannot afford to pay the cost of care.\n",
      "\n",
      "\n",
      "Service name: Physician services\n",
      "SCORE: 63.10593032836914\n",
      "\n",
      "\n",
      "concated_text: Health care services a licensed medical physician (M.D. – Medical Doctor or D.O. – Doctor of Osteopathic Medicine) provides or coordinates.\n",
      "\n",
      "\n",
      "Service name: Reconstructive surgery\n",
      "SCORE: 62.73225021362305\n",
      "\n",
      "\n",
      "concated_text: Surgery and follow-up treatment needed to correct or improve a part of the body because of birth defects, accidents, injuries or medical conditions.\n",
      "\n",
      "\n",
      "Service name: Medicare\n",
      "SCORE: 62.71996307373047\n",
      "\n",
      "\n",
      "concated_text: A federal health insurance program for people 65 and older and certain younger people with disabilities. It also covers people with End-Stage Renal Disease (permanent kidney failure requiring dialysis or a transplant, sometimes called ESRD).\n",
      "Medicare isn’t part of the Health Insurance Marketplace®. If you have Medicare coverage you don’t have to make any changes. You’re considered covered under the health care law.\n",
      "Related content\n",
      "\n",
      "Learn about Medicare and the Marketplace\n",
      "Changing from the Marketplace to Medicare\n",
      "Visit Medicare.gov\n",
      "\n",
      "\n",
      "Service name: Primary care physician\n",
      "SCORE: 62.3350830078125\n",
      "\n",
      "\n",
      "concated_text: A physician (M.D. – Medical Doctor or D.O. – Doctor of Osteopathic Medicine) who directly provides or coordinates a range of health care services for a patient.\n",
      "\n",
      "\n",
      "Service name: Health status\n",
      "SCORE: 61.994625091552734\n",
      "\n",
      "\n",
      "concated_text: Refers to your medical conditions (both physical and mental health), claims experience, receipt of health care, medical history, genetic information, evidence of insurability, and disability.\n",
      "\n",
      "\n",
      "Service name: Primary care provider\n",
      "SCORE: 61.596370697021484\n",
      "\n",
      "\n",
      "concated_text: A physician (M.D. – Medical Doctor or D.O. – Doctor of Osteopathic Medicine), nurse practitioner, clinical nurse specialist or physician assistant, as allowed under state law, who provides, coordinates or helps a patient access a range of health care services.\n",
      "\n",
      "\n",
      "Service name: Rehabilitative/Rehabilitation services\n",
      "SCORE: 59.74418640136719\n",
      "\n",
      "\n",
      "concated_text: Health care services that help you keep, get back, or improve skills and functioning for daily living that have been lost or impaired because you were sick, hurt, or disabled. These services may include physical and occupational therapy, speech-language pathology, and psychiatric rehabilitation services in a variety of inpatient and/or outpatient settings.\n",
      "\n",
      "\n",
      "Service name: Habilitative/Habilitation services\n",
      "SCORE: 59.39332580566406\n",
      "\n",
      "\n",
      "concated_text: Health care services that help you keep, learn, or improve skills and functioning for daily living. Examples include therapy for a child who isn't walking or talking at the expected age. These services may include physical and occupational therapy, speech-language pathology, and other services for people with disabilities in a variety of inpatient and/or outpatient settings.\n",
      "Related content\n",
      "\n",
      "What Marketplace health insurance plans cover\n",
      "Coverage options for people with disabilities\n",
      "\n",
      "\n",
      "Service name: Disability\n",
      "SCORE: 57.700706481933594\n",
      "\n",
      "\n",
      "concated_text: A limit in a range of major life activities. This includes activities like seeing, hearing, walking and tasks like thinking and working. Because different programs may have different disability standards, please check the program you're interested in for its disability standards. The list of activities mentioned above isn't exhaustive.\n",
      "Related content\n",
      "\n",
      "See the Americans with Disabilities Act (ADA) for a legal definition of disability\n",
      "Read the Equal Employment Opportunity Commission (EEOC) Regulations to Implement the Equal Employment Provisions of the ADA (PDF)\n",
      "\n",
      "\n"
     ]
    }
   ],
   "source": [
    "for _, row in samples_df.iterrows():\n",
    "    #print(row)\n",
    "    print(f\"Service name: {row['Benefit_name']}\")\n",
    "    print(f\"SCORE: {row.scores}\")\n",
    "    print('\\n')\n",
    "    print(f\"concated_text: {row.Description}\")\n",
    "    print('\\n')"
   ]
  },
  {
   "cell_type": "code",
   "execution_count": null,
   "id": "0bf5518f",
   "metadata": {},
   "outputs": [],
   "source": [
    "#str(corpus_embeddings)"
   ]
  },
  {
   "cell_type": "code",
   "execution_count": 28,
   "id": "b5c782c6",
   "metadata": {},
   "outputs": [],
   "source": [
    "from sentence_transformers import SentenceTransformer\n",
    "model = SentenceTransformer('sentence-transformers/all-MiniLM-L6-v2')"
   ]
  },
  {
   "cell_type": "code",
   "execution_count": 29,
   "id": "6ce6b0a5",
   "metadata": {},
   "outputs": [],
   "source": [
    "corpus_embeddings =  model.encode(corpus, convert_to_tensor=True)"
   ]
  },
  {
   "cell_type": "code",
   "execution_count": 30,
   "id": "d3b2f32a",
   "metadata": {},
   "outputs": [
    {
     "data": {
      "text/plain": [
       "tensor([[ 0.0187,  0.0305, -0.0664,  ..., -0.0724,  0.1611,  0.0365],\n",
       "        [-0.0351,  0.0541,  0.0044,  ..., -0.0526,  0.0449, -0.0026],\n",
       "        [-0.0202,  0.0573,  0.0462,  ..., -0.1122,  0.0941,  0.0704],\n",
       "        ...,\n",
       "        [-0.0315,  0.0818,  0.0674,  ..., -0.0439,  0.0765, -0.0317],\n",
       "        [-0.0228,  0.1304,  0.0545,  ..., -0.1139,  0.0366,  0.1009],\n",
       "        [-0.0866,  0.0267, -0.0048,  ..., -0.0461, -0.0224,  0.0615]])"
      ]
     },
     "execution_count": 30,
     "metadata": {},
     "output_type": "execute_result"
    }
   ],
   "source": [
    "corpus_embeddings"
   ]
  },
  {
   "cell_type": "code",
   "execution_count": 31,
   "id": "06ba1f38",
   "metadata": {},
   "outputs": [
    {
     "name": "stdout",
     "output_type": "stream",
     "text": [
      "saved Custom embeddings\n"
     ]
    }
   ],
   "source": [
    "import pickle\n",
    "model_path= r\"C:\\Users\\AL44096\\Documents\\sentence_model\"\n",
    "save_custom_embeddings(model_path,corpus_embeddings)"
   ]
  },
  {
   "cell_type": "code",
   "execution_count": 32,
   "id": "eafe87e3",
   "metadata": {},
   "outputs": [],
   "source": [
    "stored_sentences,stored_embeddings=load_custom_embeddings(model_path)"
   ]
  },
  {
   "cell_type": "code",
   "execution_count": 33,
   "id": "08e769f2",
   "metadata": {},
   "outputs": [
    {
     "data": {
      "text/plain": [
       "tensor([[ 0.0187,  0.0305, -0.0664,  ..., -0.0724,  0.1611,  0.0365],\n",
       "        [-0.0351,  0.0541,  0.0044,  ..., -0.0526,  0.0449, -0.0026],\n",
       "        [-0.0202,  0.0573,  0.0462,  ..., -0.1122,  0.0941,  0.0704],\n",
       "        ...,\n",
       "        [-0.0315,  0.0818,  0.0674,  ..., -0.0439,  0.0765, -0.0317],\n",
       "        [-0.0228,  0.1304,  0.0545,  ..., -0.1139,  0.0366,  0.1009],\n",
       "        [-0.0866,  0.0267, -0.0048,  ..., -0.0461, -0.0224,  0.0615]])"
      ]
     },
     "execution_count": 33,
     "metadata": {},
     "output_type": "execute_result"
    }
   ],
   "source": [
    "stored_embeddings"
   ]
  },
  {
   "cell_type": "markdown",
   "id": "4685e3c2",
   "metadata": {},
   "source": [
    "# searching through faiss index"
   ]
  },
  {
   "cell_type": "code",
   "execution_count": 34,
   "id": "2f1b2da1",
   "metadata": {},
   "outputs": [],
   "source": [
    "d = stored_embeddings.shape[1]"
   ]
  },
  {
   "cell_type": "code",
   "execution_count": 35,
   "id": "56738d3d",
   "metadata": {},
   "outputs": [],
   "source": [
    "import faiss\n",
    "index = faiss.IndexFlatL2(d)"
   ]
  },
  {
   "cell_type": "code",
   "execution_count": 36,
   "id": "f337000d",
   "metadata": {},
   "outputs": [
    {
     "data": {
      "text/plain": [
       "True"
      ]
     },
     "execution_count": 36,
     "metadata": {},
     "output_type": "execute_result"
    }
   ],
   "source": [
    "index.is_trained"
   ]
  },
  {
   "cell_type": "code",
   "execution_count": 37,
   "id": "8af47017",
   "metadata": {},
   "outputs": [],
   "source": [
    "index.add(stored_embeddings)"
   ]
  },
  {
   "cell_type": "code",
   "execution_count": 38,
   "id": "76295cd5",
   "metadata": {},
   "outputs": [
    {
     "data": {
      "text/plain": [
       "257"
      ]
     },
     "execution_count": 38,
     "metadata": {},
     "output_type": "execute_result"
    }
   ],
   "source": [
    "index.ntotal"
   ]
  },
  {
   "cell_type": "code",
   "execution_count": 39,
   "id": "3b1ab0bf",
   "metadata": {},
   "outputs": [],
   "source": [
    "k = 10\n",
    "xq = model.encode([\"WheelChair\"])"
   ]
  },
  {
   "cell_type": "code",
   "execution_count": 40,
   "id": "2ca6ba69",
   "metadata": {},
   "outputs": [
    {
     "name": "stdout",
     "output_type": "stream",
     "text": [
      "[[ 64 113 207 106 249  63 245 172 139 194]]\n",
      "CPU times: total: 0 ns\n",
      "Wall time: 0 ns\n"
     ]
    }
   ],
   "source": [
    "%%time\n",
    "D, I = index.search(xq, k)  # search\n",
    "print(I)"
   ]
  },
  {
   "cell_type": "code",
   "execution_count": 41,
   "id": "eeead324",
   "metadata": {},
   "outputs": [
    {
     "data": {
      "text/plain": [
       "['64: Ambulance Services Emergency Medical Condition',\n",
       " '113: Services Provide Comfort Support Persons Last Stages Terminal Illness Families',\n",
       " '207: Health Care Services Help Keep Get Back Improve Skills Functioning Daily Living Lost Impaired Sick Hurt Disabled Services May Include Physical Occupational Therapy SpeechLanguage Pathology Psychiatric Rehabilitation Services Variety Inpatient AndOr Outpatient Settings',\n",
       " '106: Refers Medical Conditions Physical Mental Health Claims Experience Receipt Health Care Medical History Genetic Information Evidence Insurability Disability',\n",
       " '249: Care Illness Injury Condition Serious Enough Reasonable Person Would Seek Care Right Away Severe Requires Emergency Room Care',\n",
       " '63: Illness Injury Symptom Condition Serious Reasonable Person Would Seek Care Right Away Avoid Severe Harm',\n",
       " '245: Tty Teletypewriter Communication Device Used People Deaf HardOfHearing Severe Speech Impairment People DonT Tty Communicate Tty User Message Relay Center Mrc Mrc Tty Operators Available Send Interpret Tty Messages',\n",
       " '172: Health Care Services Licensed Medical Physician MD – Medical Doctor – Doctor Osteopathic Medicine Provides Coordinates',\n",
       " '139: Federal Health Insurance Program People 65 Older Certain Younger People Disabilities Also Covers People EndStage Renal Disease Permanent Kidney Failure Requiring Dialysis Transplant Sometimes Called Esrd Medicare Isn’T Part Health Insurance Marketplace® Medicare Coverage Don’T Make Changes You’Re Considered Covered Health Care Law Related Content Learn Medicare Marketplace Changing Marketplace Medicare Visit MedicareGov',\n",
       " '194: Physician MD – Medical Doctor – Doctor Osteopathic Medicine Directly Provides Coordinates Range Health Care Services Patient']"
      ]
     },
     "execution_count": 41,
     "metadata": {},
     "output_type": "execute_result"
    }
   ],
   "source": [
    "[f'{i}: {corpus[i]}' for i in I[0]]"
   ]
  },
  {
   "cell_type": "code",
   "execution_count": 42,
   "id": "b7b12c00",
   "metadata": {},
   "outputs": [],
   "source": [
    "similar_sentences=[corpus[idx] for idx in I[0]]\n",
    "similar_probabilities=[1-distance for distance in D[0]]"
   ]
  },
  {
   "cell_type": "code",
   "execution_count": 43,
   "id": "2dfde6fa",
   "metadata": {},
   "outputs": [
    {
     "name": "stdout",
     "output_type": "stream",
     "text": [
      "Similar Sentence : Ambulance Services Emergency Medical Condition\n",
      "probability : -0.35128748416900635\n",
      "\n",
      "Similar Sentence : Services Provide Comfort Support Persons Last Stages Terminal Illness Families\n",
      "probability : -0.44650161266326904\n",
      "\n",
      "Similar Sentence : Health Care Services Help Keep Get Back Improve Skills Functioning Daily Living Lost Impaired Sick Hurt Disabled Services May Include Physical Occupational Therapy SpeechLanguage Pathology Psychiatric Rehabilitation Services Variety Inpatient AndOr Outpatient Settings\n",
      "probability : -0.4689595699310303\n",
      "\n",
      "Similar Sentence : Refers Medical Conditions Physical Mental Health Claims Experience Receipt Health Care Medical History Genetic Information Evidence Insurability Disability\n",
      "probability : -0.47084474563598633\n",
      "\n",
      "Similar Sentence : Care Illness Injury Condition Serious Enough Reasonable Person Would Seek Care Right Away Severe Requires Emergency Room Care\n",
      "probability : -0.4766143560409546\n",
      "\n",
      "Similar Sentence : Illness Injury Symptom Condition Serious Reasonable Person Would Seek Care Right Away Avoid Severe Harm\n",
      "probability : -0.4881021976470947\n",
      "\n",
      "Similar Sentence : Tty Teletypewriter Communication Device Used People Deaf HardOfHearing Severe Speech Impairment People DonT Tty Communicate Tty User Message Relay Center Mrc Mrc Tty Operators Available Send Interpret Tty Messages\n",
      "probability : -0.4884023666381836\n",
      "\n",
      "Similar Sentence : Health Care Services Licensed Medical Physician MD – Medical Doctor – Doctor Osteopathic Medicine Provides Coordinates\n",
      "probability : -0.5076123476028442\n",
      "\n",
      "Similar Sentence : Federal Health Insurance Program People 65 Older Certain Younger People Disabilities Also Covers People EndStage Renal Disease Permanent Kidney Failure Requiring Dialysis Transplant Sometimes Called Esrd Medicare Isn’T Part Health Insurance Marketplace® Medicare Coverage Don’T Make Changes You’Re Considered Covered Health Care Law Related Content Learn Medicare Marketplace Changing Marketplace Medicare Visit MedicareGov\n",
      "probability : -0.5288259983062744\n",
      "\n",
      "Similar Sentence : Physician MD – Medical Doctor – Doctor Osteopathic Medicine Directly Provides Coordinates Range Health Care Services Patient\n",
      "probability : -0.5297648906707764\n",
      "\n"
     ]
    }
   ],
   "source": [
    "for sentence, probability in zip(similar_sentences,similar_probabilities):\n",
    "    print(\"Similar Sentence :\", sentence)\n",
    "    print(\"probability :\", probability)\n",
    "    print()"
   ]
  },
  {
   "cell_type": "code",
   "execution_count": null,
   "id": "5d6fa658",
   "metadata": {},
   "outputs": [],
   "source": []
  },
  {
   "cell_type": "code",
   "execution_count": null,
   "id": "1e5c41e1",
   "metadata": {},
   "outputs": [],
   "source": []
  },
  {
   "cell_type": "markdown",
   "id": "25a12bb5",
   "metadata": {},
   "source": [
    "# searching by creating an clusters"
   ]
  },
  {
   "cell_type": "code",
   "execution_count": 44,
   "id": "15ec9faf",
   "metadata": {},
   "outputs": [],
   "source": [
    "nlist = 50  # how many cells\n",
    "quantizer = faiss.IndexFlatL2(d)\n",
    "index = faiss.IndexIVFFlat(quantizer, d, nlist)"
   ]
  },
  {
   "cell_type": "code",
   "execution_count": 45,
   "id": "0d05da05",
   "metadata": {},
   "outputs": [
    {
     "data": {
      "text/plain": [
       "False"
      ]
     },
     "execution_count": 45,
     "metadata": {},
     "output_type": "execute_result"
    }
   ],
   "source": [
    "index.is_trained"
   ]
  },
  {
   "cell_type": "code",
   "execution_count": 46,
   "id": "9185b2fd",
   "metadata": {},
   "outputs": [
    {
     "data": {
      "text/plain": [
       "True"
      ]
     },
     "execution_count": 46,
     "metadata": {},
     "output_type": "execute_result"
    }
   ],
   "source": [
    "index.train(stored_embeddings)\n",
    "index.is_trained # check if index is now trained"
   ]
  },
  {
   "cell_type": "code",
   "execution_count": 47,
   "id": "422ff772",
   "metadata": {},
   "outputs": [
    {
     "data": {
      "text/plain": [
       "257"
      ]
     },
     "execution_count": 47,
     "metadata": {},
     "output_type": "execute_result"
    }
   ],
   "source": [
    "index.add(stored_embeddings)\n",
    "index.ntotal  # number of embeddings indexed"
   ]
  },
  {
   "cell_type": "code",
   "execution_count": 48,
   "id": "b7ee7585",
   "metadata": {},
   "outputs": [
    {
     "name": "stdout",
     "output_type": "stream",
     "text": [
      "[[207 245 206 222 247 124  96 133 169  40]]\n",
      "CPU times: total: 15.6 ms\n",
      "Wall time: 998 µs\n"
     ]
    }
   ],
   "source": [
    "%%time\n",
    "D, I = index.search(xq, k)  # search\n",
    "print(I)"
   ]
  },
  {
   "cell_type": "code",
   "execution_count": 49,
   "id": "39e33617",
   "metadata": {},
   "outputs": [
    {
     "data": {
      "text/plain": [
       "['207: Health Care Services Help Keep Get Back Improve Skills Functioning Daily Living Lost Impaired Sick Hurt Disabled Services May Include Physical Occupational Therapy SpeechLanguage Pathology Psychiatric Rehabilitation Services Variety Inpatient AndOr Outpatient Settings',\n",
       " '245: Tty Teletypewriter Communication Device Used People Deaf HardOfHearing Severe Speech Impairment People DonT Tty Communicate Tty User Message Relay Center Mrc Mrc Tty Operators Available Send Interpret Tty Messages',\n",
       " '206: Written Order Primary Care Doctor See Specialist Get Certain Medical Services Many Health Maintenance Organizations Hmos Need Get Referral Get Medical Care Anyone Except Primary Care Doctor Don’T Get Referral First Plan May Pay Services',\n",
       " '222: Skilled Nursing Care Rehabilitation Services Provided Continuous Daily Basis Skilled Nursing Facility Examples Skilled Nursing Facility Care Include Physical Therapy Intravenous Injections Given Registered Nurse Doctor',\n",
       " '247: Health Care Services Provided Hospitals Health Care Providers DonT Get Reimbursed Often Uncompensated Care Arises People DonT Insurance Cannot Afford Pay Cost Care',\n",
       " '124: Health Care Get YouRe Admitted Inpatient Health Care Facility Like Hospital Skilled Nursing Facility',\n",
       " '96: Health Care Services Help Keep Learn Improve Skills Functioning Daily Living Examples Include Therapy Child IsnT Walking Talking Expected Age Services May Include Physical Occupational Therapy SpeechLanguage Pathology Services People Disabilities Variety Inpatient AndOr Outpatient Settings Related Content Marketplace Health Insurance Plans Cover Coverage Options People Disabilities',\n",
       " '133: Services Include Medical NonMedical Care Provided People Unable Perform Basic Activities Daily Living Dressing Bathing LongTerm Supports Services Provided Home Community Assisted Living Nursing Homes Individuals May Need LongTerm Supports Services Age Medicare Health Insurance Plans Don’T Pay LongTerm Care',\n",
       " '169: Payment Structure Different Health Care Providers Treating Related Conditions Paid Overall Sum Taking Care Condition Rather Paid Individual Treatment Test Procedure Providers Rewarded Coordinating Care Preventing Complications Errors Reducing Unnecessary Duplicative Tests Treatments',\n",
       " '40: Conditions Due Pregnancy Labor Delivery Require Medical Care Prevent Serious Harm Health Mother Fetus Morning Sickness NonEmergency Caesarean Section Aren’T Complications Pregnancy']"
      ]
     },
     "execution_count": 49,
     "metadata": {},
     "output_type": "execute_result"
    }
   ],
   "source": [
    "[f'{i}: {corpus[i]}' for i in I[0]]"
   ]
  },
  {
   "cell_type": "code",
   "execution_count": 50,
   "id": "6298c5a1",
   "metadata": {},
   "outputs": [],
   "source": [
    "similar_sentences=[corpus[idx] for idx in I[0]]\n",
    "similar_probabilities=[1-distance for distance in D[0]]"
   ]
  },
  {
   "cell_type": "code",
   "execution_count": 51,
   "id": "4b3125e9",
   "metadata": {},
   "outputs": [
    {
     "name": "stdout",
     "output_type": "stream",
     "text": [
      "Similar Sentence : Health Care Services Help Keep Get Back Improve Skills Functioning Daily Living Lost Impaired Sick Hurt Disabled Services May Include Physical Occupational Therapy SpeechLanguage Pathology Psychiatric Rehabilitation Services Variety Inpatient AndOr Outpatient Settings\n",
      "probability : -0.4689595699310303\n",
      "\n",
      "Similar Sentence : Tty Teletypewriter Communication Device Used People Deaf HardOfHearing Severe Speech Impairment People DonT Tty Communicate Tty User Message Relay Center Mrc Mrc Tty Operators Available Send Interpret Tty Messages\n",
      "probability : -0.4884023666381836\n",
      "\n",
      "Similar Sentence : Written Order Primary Care Doctor See Specialist Get Certain Medical Services Many Health Maintenance Organizations Hmos Need Get Referral Get Medical Care Anyone Except Primary Care Doctor Don’T Get Referral First Plan May Pay Services\n",
      "probability : -0.5699763298034668\n",
      "\n",
      "Similar Sentence : Skilled Nursing Care Rehabilitation Services Provided Continuous Daily Basis Skilled Nursing Facility Examples Skilled Nursing Facility Care Include Physical Therapy Intravenous Injections Given Registered Nurse Doctor\n",
      "probability : -0.5701686143875122\n",
      "\n",
      "Similar Sentence : Health Care Services Provided Hospitals Health Care Providers DonT Get Reimbursed Often Uncompensated Care Arises People DonT Insurance Cannot Afford Pay Cost Care\n",
      "probability : -0.5774710178375244\n",
      "\n",
      "Similar Sentence : Health Care Get YouRe Admitted Inpatient Health Care Facility Like Hospital Skilled Nursing Facility\n",
      "probability : -0.5904021263122559\n",
      "\n",
      "Similar Sentence : Health Care Services Help Keep Learn Improve Skills Functioning Daily Living Examples Include Therapy Child IsnT Walking Talking Expected Age Services May Include Physical Occupational Therapy SpeechLanguage Pathology Services People Disabilities Variety Inpatient AndOr Outpatient Settings Related Content Marketplace Health Insurance Plans Cover Coverage Options People Disabilities\n",
      "probability : -0.656004786491394\n",
      "\n",
      "Similar Sentence : Services Include Medical NonMedical Care Provided People Unable Perform Basic Activities Daily Living Dressing Bathing LongTerm Supports Services Provided Home Community Assisted Living Nursing Homes Individuals May Need LongTerm Supports Services Age Medicare Health Insurance Plans Don’T Pay LongTerm Care\n",
      "probability : -0.7094123363494873\n",
      "\n",
      "Similar Sentence : Payment Structure Different Health Care Providers Treating Related Conditions Paid Overall Sum Taking Care Condition Rather Paid Individual Treatment Test Procedure Providers Rewarded Coordinating Care Preventing Complications Errors Reducing Unnecessary Duplicative Tests Treatments\n",
      "probability : -0.7485682964324951\n",
      "\n",
      "Similar Sentence : Conditions Due Pregnancy Labor Delivery Require Medical Care Prevent Serious Harm Health Mother Fetus Morning Sickness NonEmergency Caesarean Section Aren’T Complications Pregnancy\n",
      "probability : -0.9582853317260742\n",
      "\n"
     ]
    }
   ],
   "source": [
    "for sentence, probability in zip(similar_sentences,similar_probabilities):\n",
    "    print(\"Similar Sentence :\", sentence)\n",
    "    print(\"probability :\", probability)\n",
    "    print()"
   ]
  },
  {
   "cell_type": "code",
   "execution_count": null,
   "id": "f48320f0",
   "metadata": {},
   "outputs": [],
   "source": []
  },
  {
   "cell_type": "markdown",
   "id": "8f326021",
   "metadata": {},
   "source": [
    "# Searching by all the 10 nearest clusters"
   ]
  },
  {
   "cell_type": "code",
   "execution_count": 52,
   "id": "041a68dd",
   "metadata": {},
   "outputs": [],
   "source": [
    "index.nprobe = 10"
   ]
  },
  {
   "cell_type": "code",
   "execution_count": 53,
   "id": "6f9bb1ea",
   "metadata": {},
   "outputs": [
    {
     "name": "stdout",
     "output_type": "stream",
     "text": [
      "[[ 64 113 207 106 249  63 245 172 194 195]]\n",
      "[[1.3512875 1.4465016 1.4689596 1.4708447 1.4766144 1.4881022 1.4884024\n",
      "  1.5076123 1.5297649 1.5434499]]\n",
      "CPU times: total: 0 ns\n",
      "Wall time: 0 ns\n"
     ]
    }
   ],
   "source": [
    "%%time\n",
    "D, I = index.search(xq, k)  # search\n",
    "print(I)\n",
    "print(D)"
   ]
  },
  {
   "cell_type": "code",
   "execution_count": 54,
   "id": "2366388f",
   "metadata": {},
   "outputs": [],
   "source": [
    "similar_sentences=[corpus[idx] for idx in I[0]]\n",
    "similar_probabilities=[1-distance for distance in D[0]]"
   ]
  },
  {
   "cell_type": "code",
   "execution_count": 55,
   "id": "04bd2ef1",
   "metadata": {},
   "outputs": [
    {
     "name": "stdout",
     "output_type": "stream",
     "text": [
      "Similar Sentence : Ambulance Services Emergency Medical Condition\n",
      "probability : -0.35128748416900635\n",
      "\n",
      "Similar Sentence : Services Provide Comfort Support Persons Last Stages Terminal Illness Families\n",
      "probability : -0.44650161266326904\n",
      "\n",
      "Similar Sentence : Health Care Services Help Keep Get Back Improve Skills Functioning Daily Living Lost Impaired Sick Hurt Disabled Services May Include Physical Occupational Therapy SpeechLanguage Pathology Psychiatric Rehabilitation Services Variety Inpatient AndOr Outpatient Settings\n",
      "probability : -0.4689595699310303\n",
      "\n",
      "Similar Sentence : Refers Medical Conditions Physical Mental Health Claims Experience Receipt Health Care Medical History Genetic Information Evidence Insurability Disability\n",
      "probability : -0.47084474563598633\n",
      "\n",
      "Similar Sentence : Care Illness Injury Condition Serious Enough Reasonable Person Would Seek Care Right Away Severe Requires Emergency Room Care\n",
      "probability : -0.4766143560409546\n",
      "\n",
      "Similar Sentence : Illness Injury Symptom Condition Serious Reasonable Person Would Seek Care Right Away Avoid Severe Harm\n",
      "probability : -0.4881021976470947\n",
      "\n",
      "Similar Sentence : Tty Teletypewriter Communication Device Used People Deaf HardOfHearing Severe Speech Impairment People DonT Tty Communicate Tty User Message Relay Center Mrc Mrc Tty Operators Available Send Interpret Tty Messages\n",
      "probability : -0.4884023666381836\n",
      "\n",
      "Similar Sentence : Health Care Services Licensed Medical Physician MD – Medical Doctor – Doctor Osteopathic Medicine Provides Coordinates\n",
      "probability : -0.5076123476028442\n",
      "\n",
      "Similar Sentence : Physician MD – Medical Doctor – Doctor Osteopathic Medicine Directly Provides Coordinates Range Health Care Services Patient\n",
      "probability : -0.5297648906707764\n",
      "\n",
      "Similar Sentence : Physician MD – Medical Doctor – Doctor Osteopathic Medicine Nurse Practitioner Clinical Nurse Specialist Physician Assistant Allowed State Law Provides Coordinates Helps Patient Access Range Health Care Services\n",
      "probability : -0.543449878692627\n",
      "\n"
     ]
    }
   ],
   "source": [
    "for sentence, probability in zip(similar_sentences,similar_probabilities):\n",
    "    print(\"Similar Sentence :\", sentence)\n",
    "    print(\"probability :\", probability)\n",
    "    print()"
   ]
  },
  {
   "cell_type": "code",
   "execution_count": null,
   "id": "cd8c7863",
   "metadata": {},
   "outputs": [],
   "source": []
  },
  {
   "cell_type": "code",
   "execution_count": null,
   "id": "1aabcf47",
   "metadata": {},
   "outputs": [],
   "source": []
  },
  {
   "cell_type": "code",
   "execution_count": null,
   "id": "08a203c5",
   "metadata": {},
   "outputs": [],
   "source": []
  },
  {
   "cell_type": "code",
   "execution_count": null,
   "id": "4efb9eb2",
   "metadata": {},
   "outputs": [],
   "source": []
  },
  {
   "cell_type": "code",
   "execution_count": 56,
   "id": "ec5f7366",
   "metadata": {},
   "outputs": [
    {
     "data": {
      "text/plain": [
       "['64: Ambulance Services Emergency Medical Condition',\n",
       " '113: Services Provide Comfort Support Persons Last Stages Terminal Illness Families',\n",
       " '207: Health Care Services Help Keep Get Back Improve Skills Functioning Daily Living Lost Impaired Sick Hurt Disabled Services May Include Physical Occupational Therapy SpeechLanguage Pathology Psychiatric Rehabilitation Services Variety Inpatient AndOr Outpatient Settings',\n",
       " '106: Refers Medical Conditions Physical Mental Health Claims Experience Receipt Health Care Medical History Genetic Information Evidence Insurability Disability',\n",
       " '249: Care Illness Injury Condition Serious Enough Reasonable Person Would Seek Care Right Away Severe Requires Emergency Room Care',\n",
       " '63: Illness Injury Symptom Condition Serious Reasonable Person Would Seek Care Right Away Avoid Severe Harm',\n",
       " '245: Tty Teletypewriter Communication Device Used People Deaf HardOfHearing Severe Speech Impairment People DonT Tty Communicate Tty User Message Relay Center Mrc Mrc Tty Operators Available Send Interpret Tty Messages',\n",
       " '172: Health Care Services Licensed Medical Physician MD – Medical Doctor – Doctor Osteopathic Medicine Provides Coordinates',\n",
       " '194: Physician MD – Medical Doctor – Doctor Osteopathic Medicine Directly Provides Coordinates Range Health Care Services Patient',\n",
       " '195: Physician MD – Medical Doctor – Doctor Osteopathic Medicine Nurse Practitioner Clinical Nurse Specialist Physician Assistant Allowed State Law Provides Coordinates Helps Patient Access Range Health Care Services']"
      ]
     },
     "execution_count": 56,
     "metadata": {},
     "output_type": "execute_result"
    }
   ],
   "source": [
    "[f'{i}: {corpus[i]}' for i in I[0]]"
   ]
  },
  {
   "cell_type": "code",
   "execution_count": 57,
   "id": "f5c5d04d",
   "metadata": {},
   "outputs": [
    {
     "data": {
      "text/plain": [
       "['Ambulance Services Emergency Medical Condition',\n",
       " 'Services Provide Comfort Support Persons Last Stages Terminal Illness Families',\n",
       " 'Health Care Services Help Keep Get Back Improve Skills Functioning Daily Living Lost Impaired Sick Hurt Disabled Services May Include Physical Occupational Therapy SpeechLanguage Pathology Psychiatric Rehabilitation Services Variety Inpatient AndOr Outpatient Settings',\n",
       " 'Refers Medical Conditions Physical Mental Health Claims Experience Receipt Health Care Medical History Genetic Information Evidence Insurability Disability',\n",
       " 'Care Illness Injury Condition Serious Enough Reasonable Person Would Seek Care Right Away Severe Requires Emergency Room Care',\n",
       " 'Illness Injury Symptom Condition Serious Reasonable Person Would Seek Care Right Away Avoid Severe Harm',\n",
       " 'Tty Teletypewriter Communication Device Used People Deaf HardOfHearing Severe Speech Impairment People DonT Tty Communicate Tty User Message Relay Center Mrc Mrc Tty Operators Available Send Interpret Tty Messages',\n",
       " 'Health Care Services Licensed Medical Physician MD – Medical Doctor – Doctor Osteopathic Medicine Provides Coordinates',\n",
       " 'Physician MD – Medical Doctor – Doctor Osteopathic Medicine Directly Provides Coordinates Range Health Care Services Patient',\n",
       " 'Physician MD – Medical Doctor – Doctor Osteopathic Medicine Nurse Practitioner Clinical Nurse Specialist Physician Assistant Allowed State Law Provides Coordinates Helps Patient Access Range Health Care Services']"
      ]
     },
     "execution_count": 57,
     "metadata": {},
     "output_type": "execute_result"
    }
   ],
   "source": [
    "p=[corpus[i] for i in I[0]]\n",
    "p"
   ]
  },
  {
   "cell_type": "code",
   "execution_count": null,
   "id": "1e42c669",
   "metadata": {},
   "outputs": [],
   "source": []
  },
  {
   "cell_type": "code",
   "execution_count": null,
   "id": "35c1f437",
   "metadata": {},
   "outputs": [],
   "source": []
  },
  {
   "cell_type": "code",
   "execution_count": null,
   "id": "d4b8bc71",
   "metadata": {},
   "outputs": [],
   "source": [
    "for i in p:\n",
    "    y=df.loc[df[\"concated_text\"]==i]['Service name']#.values[0]#item()#iloc[0]\n",
    "    print(y)#.to_string())"
   ]
  },
  {
   "cell_type": "code",
   "execution_count": null,
   "id": "f61c2388",
   "metadata": {},
   "outputs": [],
   "source": [
    "df.iloc[11394]['Service name']"
   ]
  },
  {
   "cell_type": "code",
   "execution_count": null,
   "id": "816b7cd0",
   "metadata": {},
   "outputs": [],
   "source": []
  },
  {
   "cell_type": "code",
   "execution_count": null,
   "id": "63f4d1f9",
   "metadata": {},
   "outputs": [],
   "source": []
  }
 ],
 "metadata": {
  "kernelspec": {
   "display_name": "nls_gpu",
   "language": "python",
   "name": "nls_gpu"
  },
  "language_info": {
   "codemirror_mode": {
    "name": "ipython",
    "version": 3
   },
   "file_extension": ".py",
   "mimetype": "text/x-python",
   "name": "python",
   "nbconvert_exporter": "python",
   "pygments_lexer": "ipython3",
   "version": "3.10.9"
  }
 },
 "nbformat": 4,
 "nbformat_minor": 5
}
