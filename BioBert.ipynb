{
 "cells": [
  {
   "cell_type": "code",
   "execution_count": 7,
   "id": "25f46d33-8849-447e-adc7-9030d362c0d6",
   "metadata": {},
   "outputs": [
    {
     "name": "stderr",
     "output_type": "stream",
     "text": [
      "[nltk_data] Downloading package stopwords to\n",
      "[nltk_data]     C:\\Users\\HP\\AppData\\Roaming\\nltk_data...\n",
      "[nltk_data]   Package stopwords is already up-to-date!\n"
     ]
    }
   ],
   "source": [
    "import pandas as pd\n",
    "import string\n",
    "import nltk\n",
    "from nltk.corpus import stopwords\n",
    "import torch\n",
    "from transformers import AutoTokenizer, AutoModel\n",
    "import numpy as np\n",
    "import json\n",
    "\n",
    "# Load the stop words and punctuation\n",
    "nltk.download('stopwords')\n",
    "stop_words = stopwords.words('english')\n",
    "punctuation = string.punctuation\n",
    "\n",
    "# Initialize the tokenizer and model\n",
    "tokenizer = AutoTokenizer.from_pretrained('dmis-lab/biobert-v1.1')\n",
    "model = AutoModel.from_pretrained('dmis-lab/biobert-v1.1')\n",
    "\n",
    "# Define a function to clean the text data\n",
    "def clean_text(text):\n",
    "    # Convert the text to title case\n",
    "    text = str(text).title()\n",
    "    # Remove the punctuation\n",
    "    text = ''.join([c for c in text if c not in punctuation])\n",
    "    # Remove the stop words\n",
    "    tokens = [token for token in text.split() if token.lower() not in stop_words]\n",
    "    # Convert the tokens back to a string\n",
    "    cleaned_text = ' '.join(tokens)\n",
    "    return cleaned_text\n",
    "\n",
    "# Define a function to calculate the cosine similarity between two embeddings\n",
    "def cosine_similarity(a, b):\n",
    "    dot_product = np.dot(a, b)\n",
    "    norm_a = np.linalg.norm(a)\n",
    "    norm_b = np.linalg.norm(b)\n",
    "    return dot_product / (norm_a * norm_b)\n",
    "\n",
    "#converting all column data to list..\n",
    "\n",
    "def convert_df_to_list():\n",
    "    all_data=[]\n",
    "    for values in df.columns:\n",
    "        listin=df[values].tolist()\n",
    "        all_data.append(listin)\n",
    "    complete_data = [element for innerList in all_data for element in innerList]\n",
    "    return complete_data"
   ]
  },
  {
   "cell_type": "code",
   "execution_count": 6,
   "id": "b7ac0610-63fe-4363-9607-08ba4d1df719",
   "metadata": {},
   "outputs": [
    {
     "data": {
      "text/plain": [
       "[]"
      ]
     },
     "execution_count": 6,
     "metadata": {},
     "output_type": "execute_result"
    }
   ],
   "source": [
    "similarity_scores"
   ]
  },
  {
   "cell_type": "code",
   "execution_count": 8,
   "id": "ff2092d0-2a8b-4be0-a0ed-57a8cb4d2f24",
   "metadata": {},
   "outputs": [],
   "source": [
    "# Define the path to the Excel files\n",
    "path_to_files = r'C:\\Users\\HP\\Downloads\\carelon_files'\n",
    "\n",
    "# Define the names of the Excel files\n",
    "file_names = ['sheet_1.xlsx', 'sheet_2.xlsx', 'sheet_3.xlsx']\n",
    "\n",
    "# Define the name of the sheet in each Excel file that contains the text data\n",
    "sheet_name = 'Sheet1'\n",
    "\n",
    "# Load and clean the text data from each Excel file\n",
    "cleaned_data = []\n",
    "for file_name in file_names:\n",
    "    # Load the data from the Excel file into a Pandas DataFrame\n",
    "    df = pd.read_excel(f'{path_to_files}/{file_name}', sheet_name=sheet_name)\n",
    "    # Extract the relevant text data from the DataFrame\n",
    "    text_data = convert_df_to_list()\n",
    "    # Clean the text data\n",
    "    cleaned_text_data = [clean_text(text) for text in text_data]\n",
    "    # Tokenize the cleaned text data using the BioBERT tokenizer\n",
    "    encoded_data = tokenizer(cleaned_text_data, padding=True, truncation=True, return_tensors='pt')\n",
    "    # Get the contextualized embeddings for the cleaned text data using the BioBERT model\n",
    "    with torch.no_grad():\n",
    "        outputs = model(**encoded_data)\n",
    "        embeddings = outputs.last_hidden_state.mean(dim=1)\n",
    "    # Append the embeddings to the cleaned data list\n",
    "    cleaned_data.append(embeddings.numpy())"
   ]
  },
  {
   "cell_type": "code",
   "execution_count": 11,
   "id": "a8ff566c-0db6-4cbf-854d-67c78956b885",
   "metadata": {},
   "outputs": [
    {
     "data": {
      "text/plain": [
       "array([[ 0.01367003,  0.03860356, -0.34865388, ..., -0.13681906,\n",
       "         0.0144262 , -0.16563576],\n",
       "       [-0.40226692, -0.12229208, -0.03835834, ...,  0.15528215,\n",
       "         0.1065686 , -0.18299991],\n",
       "       [-0.08860499, -0.15265234, -0.13606878, ...,  0.14138635,\n",
       "         0.002732  ,  0.17150973],\n",
       "       ...,\n",
       "       [-0.0593734 ,  0.00131973, -0.29684758, ...,  0.3032733 ,\n",
       "        -0.1957117 , -0.05673091],\n",
       "       [-0.16588202,  0.03362194, -0.24173486, ...,  0.22262587,\n",
       "         0.02308082,  0.18965939],\n",
       "       [-0.16588202,  0.03362194, -0.24173486, ...,  0.22262587,\n",
       "         0.02308082,  0.18965939]], dtype=float32)"
      ]
     },
     "execution_count": 11,
     "metadata": {},
     "output_type": "execute_result"
    }
   ],
   "source": [
    "cleaned_data[0]"
   ]
  },
  {
   "cell_type": "code",
   "execution_count": 13,
   "id": "bb0ad949-d16c-43ef-a3d6-c15930b99f63",
   "metadata": {},
   "outputs": [
    {
     "data": {
      "text/plain": [
       "array([ 0.01367003,  0.03860356, -0.34865388, ..., -0.07210014,\n",
       "        0.19417426,  0.26070973], dtype=float32)"
      ]
     },
     "execution_count": 13,
     "metadata": {},
     "output_type": "execute_result"
    }
   ],
   "source": [
    "# Concatenate the cleaned data into a single NumPy array\n",
    "cleaned_data = np.concatenate(cleaned_data, axis=0)\n",
    "cleaned_data"
   ]
  },
  {
   "cell_type": "code",
   "execution_count": null,
   "id": "70f8f5b5-cc37-4b34-a295-52d8d80ee8af",
   "metadata": {},
   "outputs": [],
   "source": [
    "# Define the search term\n",
    "search_term = 'cancer'\n",
    "\n",
    "# Tokenize the search term using the BioBERT tokenizer\n",
    "cleaned_search_term = clean_text(search_term)\n",
    "encoded_search_term = tokenizer(cleaned_search_term, padding=True, truncation=True, return_tensors='pt')\n",
    "\n",
    "# Get the contextualized embedding for the search term using the BioBERT model\n",
    "with torch.no_grad():\n",
    "    search_embedding = model(**encoded_search_term)[0][0].numpy()\n",
    "\n",
    "# Calculate the cosine similarity between the search term embedding and each sentence embedding\n",
    "similarity_scores = []\n",
    "for sentence_embedding in cleaned_data:\n",
    "    similarity = cosine_similarity(search_embedding, sentence_embedding)\n",
    "    similarity_scores.append(similarity)\n"
   ]
  },
  {
   "cell_type": "code",
   "execution_count": null,
   "id": "251a652d-5389-411a-b489-c6092ec3845b",
   "metadata": {},
   "outputs": [],
   "source": []
  },
  {
   "cell_type": "code",
   "execution_count": null,
   "id": "f296cfca-be34-43c6-8c75-4170502fd694",
   "metadata": {},
   "outputs": [],
   "source": []
  }
 ],
 "metadata": {
  "kernelspec": {
   "display_name": "Python 3 (ipykernel)",
   "language": "python",
   "name": "python3"
  },
  "language_info": {
   "codemirror_mode": {
    "name": "ipython",
    "version": 3
   },
   "file_extension": ".py",
   "mimetype": "text/x-python",
   "name": "python",
   "nbconvert_exporter": "python",
   "pygments_lexer": "ipython3",
   "version": "3.9.7"
  }
 },
 "nbformat": 4,
 "nbformat_minor": 5
}
