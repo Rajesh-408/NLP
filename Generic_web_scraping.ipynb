{
 "cells": [
  {
   "cell_type": "code",
   "execution_count": 1,
   "id": "50765d94",
   "metadata": {},
   "outputs": [],
   "source": [
    "import requests\n",
    "from bs4 import BeautifulSoup\n",
    "import pandas as pd\n",
    "import lxml\n",
    "from lxml import html"
   ]
  },
  {
   "cell_type": "code",
   "execution_count": 2,
   "id": "91a4822a",
   "metadata": {},
   "outputs": [
    {
     "name": "stdout",
     "output_type": "stream",
     "text": [
      "Requirement already satisfied: lxml in c:\\programdata\\anaconda3\\envs\\nls_gpu\\lib\\site-packages (4.9.2)\n"
     ]
    }
   ],
   "source": [
    "!pip install lxml"
   ]
  },
  {
   "cell_type": "code",
   "execution_count": 3,
   "id": "5c41dfc5",
   "metadata": {},
   "outputs": [
    {
     "ename": "SyntaxError",
     "evalue": "(unicode error) 'unicodeescape' codec can't decode bytes in position 2-3: truncated \\UXXXXXXXX escape (2718478054.py, line 61)",
     "output_type": "error",
     "traceback": [
      "\u001b[1;36m  Cell \u001b[1;32mIn[3], line 61\u001b[1;36m\u001b[0m\n\u001b[1;33m    df.to_excel('C:\\Users\\AL44096\\Documents\\Web_scrap_files\\Benefit_description_long.xlsx')\u001b[0m\n\u001b[1;37m                                                                                          ^\u001b[0m\n\u001b[1;31mSyntaxError\u001b[0m\u001b[1;31m:\u001b[0m (unicode error) 'unicodeescape' codec can't decode bytes in position 2-3: truncated \\UXXXXXXXX escape\n"
     ]
    }
   ],
   "source": [
    "def parse_url(web_link):\n",
    "    response = requests.get(web_link)\n",
    "    tree = lxml.html.fromstring(response.text)\n",
    "    #links = tree.cssselect('a')  # or tree.xpath('//a')\n",
    "    links=tree.xpath('//a')\n",
    "    return links\n",
    "\n",
    "def scrape_data(links):\n",
    "    final_df=pd.DataFrame()\n",
    "    for link in links:\n",
    "        if 'href' in link.attrib:\n",
    "            term_link = link.attrib['href']\n",
    "            internal_web_link=web_search(term_link)\n",
    "            if internal_web_link:\n",
    "                term_text=benefit_name_search(internal_web_link)\n",
    "                #internal_web_link='https://www.healthcare.gov/glossary/abortion-services/'\n",
    "                print(internal_web_link)\n",
    "                try:\n",
    "                    response = requests.get(internal_web_link)\n",
    "                    tree_2 = lxml.html.fromstring(response.text)\n",
    "                    links_2=tree_2.xpath(x_path_web)\n",
    "                    for linkup in links_2:\n",
    "                        description = ' '.join(linkup.xpath('.//p//text()')).strip()\n",
    "                        print(\"Benefit_name\",term_text)\n",
    "                        print(\"Web_link\",internal_web_link)\n",
    "                        out_df=pd.DataFrame({\"Benefit_name\":term_text,\n",
    "                                         \"Web_link\":internal_web_link,\n",
    "                                         \"Description\":description},index=[0])\n",
    "                        final_df=final_df.append(out_df)\n",
    "                except Exception as e:\n",
    "                    continue\n",
    "    final_df.reset_index(inplace=True,drop=True)\n",
    "    return final_df\n",
    "\n",
    "def web_search(href_link):\n",
    "    try:\n",
    "        internal_web_link=url.rsplit('/',2)[0]+href_link\n",
    "        response = requests.get(internal_web_link)\n",
    "        if response.status_code == 200:\n",
    "            return internal_web_link\n",
    "        \n",
    "    except Exception as e:\n",
    "        internal_web_link=url.rsplit('/',1)[0]+href_link\n",
    "        response = requests.get(internal_web_link)\n",
    "        if response.status_code == 200:\n",
    "            return internal_web_link\n",
    "\n",
    "def benefit_name_search(internal_web_link):\n",
    "    term_text=internal_web_link.rsplit('/')[-1]\n",
    "    if term_text=='':\n",
    "        term_text=internal_web_link.rsplit('/')[-2]\n",
    "    else:\n",
    "        term_text\n",
    "    return term_text\n",
    "\n",
    "def save_to_excel(dataframe):\n",
    "    df = dataframe.copy()\n",
    "    #data = df.groupby(['Benefit_name', 'Web_link'])['Description'].sum()\n",
    "    #data=data.to_frame()\n",
    "    pd.set_option('display.max_colwidth', None)\n",
    "    df.to_excel(r'C:\\Users\\AL44096\\Documents\\Web_scrap_files\\Benefit_description_long.xlsx')\n",
    "    print(\"Saved file in Path\")"
   ]
  },
  {
   "cell_type": "code",
   "execution_count": null,
   "id": "55beddef",
   "metadata": {},
   "outputs": [],
   "source": [
    "url='https://www.insuranceopedia.com/dictionary'\n",
    "x_path_web = \"/html/body/main/div/div/article/div[3]\""
   ]
  },
  {
   "cell_type": "code",
   "execution_count": null,
   "id": "7a76bd81",
   "metadata": {},
   "outputs": [],
   "source": [
    "Parsing_data=parse_url(url)"
   ]
  },
  {
   "cell_type": "code",
   "execution_count": null,
   "id": "ebeddabf",
   "metadata": {},
   "outputs": [],
   "source": [
    "scrapping_data=scrape_data(Parsing_data)"
   ]
  },
  {
   "cell_type": "code",
   "execution_count": null,
   "id": "c848bced",
   "metadata": {},
   "outputs": [],
   "source": [
    "save_to_excel(scrapping_data)"
   ]
  },
  {
   "cell_type": "code",
   "execution_count": null,
   "id": "27a5a82f",
   "metadata": {},
   "outputs": [],
   "source": []
  },
  {
   "cell_type": "code",
   "execution_count": null,
   "id": "4ec8d196",
   "metadata": {},
   "outputs": [],
   "source": []
  },
  {
   "cell_type": "code",
   "execution_count": null,
   "id": "4d5f6b5e",
   "metadata": {},
   "outputs": [],
   "source": []
  }
 ],
 "metadata": {
  "kernelspec": {
   "display_name": "nls_gpu",
   "language": "python",
   "name": "nls_gpu"
  },
  "language_info": {
   "codemirror_mode": {
    "name": "ipython",
    "version": 3
   },
   "file_extension": ".py",
   "mimetype": "text/x-python",
   "name": "python",
   "nbconvert_exporter": "python",
   "pygments_lexer": "ipython3",
   "version": "3.10.9"
  }
 },
 "nbformat": 4,
 "nbformat_minor": 5
}
